{
 "cells": [
  {
   "cell_type": "markdown",
   "metadata": {},
   "source": [
    "<div class=\"row\">\n",
    "  <div class=\"col-xs-3 col-xs-offset-2\" style=\"text-align: center; margin-top: 10px;\">\n",
    "      <a href=\"https://semabioudf.wixsite.com/semabio\" style=\"text-decoration: none;\" >\n",
    "          <span style=\"font-size: 23px; color: #507786; \">2ª Semabio</span>\n",
    "          <span style=\"font-size: 22px; font-weight: bold;\">UDF</span>\n",
    "      </a>\n",
    "  </div>\n",
    "\n",
    "  <div class=\"col-xs-3\" style=\"margin-top: 14px;\">\n",
    "  <a href=\"http://www.lncc.br\" target=\"_blank\"><img src=\"img/lncc.png\" width=180></a>\n",
    "  </div>\n",
    "</div>"
   ]
  },
  {
   "cell_type": "markdown",
   "metadata": {},
   "source": [
    "## <center>Programação de Computadores para Estudantes de Biologia</center>\n",
    "###  <center>Uma Introdução Prática</center>\n",
    "---\n",
    "## <center>Aula 1. Conceitos Fundamentais</center>\n",
    "##### <center>Instrutor: <a href=\"https://pedrosiracusa.github.io\" target=\"_blank\">Pedro C. de Siracusa</a></center>\n",
    "##### <center>Data: Maio 2018</center>"
   ]
  },
  {
   "cell_type": "markdown",
   "metadata": {},
   "source": [
    "##### Conteúdos\n",
    "* [1. Introdução](#1.-Introdução)\n",
    "* [2. Conhecendo os principais tipos e valores](#2.-Conhecendo-os-principais-tipos-e-valores)\n",
    "\n",
    "* [3. Seu primeiro programa](#3.-Seu-primeiro-programa)\n",
    "  * [3.1 Operadores e expressões](#3.1-Operadores-e-expressões)\n",
    "  * [3.2 Variáveis e atribuições](#3.2-Variáveis-e-atribuições)\n",
    "  \n",
    "* [4. Organizando e estruturando informações](#4.-Organizando-e-estruturando-informações)\n",
    "  * [4.1 Listas](#4.1-Listas)\n",
    "  * [4.2 Dicionários](#4.2-Dicionários)\n",
    "  \n",
    "* [5. Adicionando lógica aos seus programas](#5.-Adicionando-lógica-aos-seus-programas)\n",
    "  * [5.1 Expressões condicionais](#5.1-Expressões-condicionais)\n",
    "  \n",
    "* [6. Lidando com comandos repetitivos](#6.-Lidando-com-comandos-repetitivos)\n",
    "  * [6.1 Estruturas de repetição: Loops](#6.1-Estruturas-de-repetição:-loops)\n",
    "  * [6.2 Funções](#6.2-Funções)\n",
    "  \n",
    "* [7. Considerações Finais](#7.-Considerações-Finais)"
   ]
  },
  {
   "cell_type": "markdown",
   "metadata": {},
   "source": [
    "---"
   ]
  },
  {
   "cell_type": "markdown",
   "metadata": {},
   "source": [
    "# 1. Introdução"
   ]
  },
  {
   "cell_type": "markdown",
   "metadata": {},
   "source": [
    "Apesar de o mundo da computação ser repleto de jargões e abstrações próprias, muitas das ideias que compõem este domínio mostram-se análogas a conceitos já conhecidos do nosso cotidiano. Em um primeiro contato com a prática da programação explorar analogias acaba potencializando o aprendizado, facilitando a compreensão e abstração de conceitos mais fundamentais por aproximá-los ao senso comum. Para entender o que é programar vamos começar com uma analogia que possivelmente despertará suas memórias de infância: brincar com **LEGO** (ou similares).\n",
    "\n",
    "<img src=\"img/lego_programming.png\" >\n",
    "\n"
   ]
  },
  {
   "cell_type": "markdown",
   "metadata": {},
   "source": [
    "Seguindo esta analogia o trabalho do **programador** é construir estruturas complexas (como um castelo) utilizando blocos fundamentais, partindo do pressuposto de que os blocos já estarão disponíveis para ele. Ele projeta as funcionalidades que deseja criar com suas construções e planeja como utilizar os blocos disponíveis para chegar até elas. Sendo assim o programador não precisa se preocupar em construir os blocos do zero antes de começar a trabalhar. \n",
    "\n",
    "O conjunto de blocos fundamentais disponíveis para o programador constituiria uma **linguagem de programação**. Em termos gerais ela reúne conjuntos de regras e estruturas que permitem que o programador expresse suas ideias na forma de **código**. Escrever código seria como encaixar blocos. Neste curso você trabalhará com a linguagem [*Python*](https://www.python.org/), uma linguagem de **propósito geral** que oferece **alto nível** de abstração. Isso faz de *Python* uma excelente primeira linguagem a ser aprendida, pois *(i)* você poderá aplicar seus novos conhecimentos em programação a vários projetos e contextos diferentes; e *(ii)* você trabalhará sem se preocupar com detalhes sobre como seu código se traduz para **código de máquina**, que é o código que seu computador de fato \"entende\". Entretanto existem muitas outras linguagens de programação, cada qual projetada para um propósito. Você já deve ter ouvido falar, por exemplo, da [linguagem R](https://www.r-project.org/), muito utilizada para computação estatística e análise de dados."
   ]
  },
  {
   "cell_type": "markdown",
   "metadata": {},
   "source": [
    "---"
   ]
  },
  {
   "cell_type": "markdown",
   "metadata": {},
   "source": [
    "## 2. Conhecendo os principais tipos e valores\n",
    "Antes de começar a montar LEGO precisamos conhecer os formatos e cores dos blocos com os quais trabalharemos, certo? Assim podemos planejar como melhor representar cada elemento que queremos construir. Além disso, outros fabricantes de brinquedos montáveis fornecem blocos parecidos com os da LEGO em formato e cor, mas sempre existem particularidades. Nas linguagens de programação isso também ocorre com tipos e valores. \n"
   ]
  },
  {
   "cell_type": "markdown",
   "metadata": {},
   "source": [
    "**Tipos** são abstrações fundamentais da linguagem que nos permitem representar elementos de informação. Cada linguagem possui um conjunto de *tipos primitivos* (ou fundamentais), a partir dos quais o programador pode construir *tipos compostos*. Tipos são análogos aos diferentes formatos de blocos disponíveis em uma caixa de LEGO. Pense em tipos compostos como se você \"criasse\" uma peça nova colando (e não encaixando) peças menores. Veja os [tipos nativos](https://docs.python.org/3/library/stdtypes.html#built-in-types) em *Python*.\n",
    "\n",
    "**Valores** são os elementos de informação em si. O conjunto de diferentes valores que podem ser representados por um tipo é finito, formando uma gama limitada de opções. No mundo LEGO são as cores com que as peças podem aparecer. Entretanto saiba que o número de cores disponíveis para cada peça em LEGO é em geral muito menor do que o tamanho do conjunto de valores para cada tipo em uma linguagem de programação!\n",
    "\n",
    "<img src=\"img/lego_typesvalues.png\">\n"
   ]
  },
  {
   "cell_type": "markdown",
   "metadata": {},
   "source": [
    "A que tipos pertencem os **valores** a seguir?"
   ]
  },
  {
   "cell_type": "markdown",
   "metadata": {},
   "source": [
    "Tipo de **3** : \n",
    "\n",
    "Tipo de **3.5** :\n",
    "\n",
    "Tipo de **'3'** :\n",
    "\n",
    "Tipo de **\"3.5\"** :\n",
    "\n",
    "Tipo de **True**:"
   ]
  },
  {
   "cell_type": "markdown",
   "metadata": {},
   "source": [
    "Exemplificar os **tipos** a seguir:"
   ]
  },
  {
   "cell_type": "markdown",
   "metadata": {},
   "source": [
    "*String (str)* :\n",
    "\n",
    "*Integer (int)* :\n",
    "\n",
    "*Boolean* :\n",
    "\n",
    "*Float* :"
   ]
  },
  {
   "cell_type": "markdown",
   "metadata": {},
   "source": [
    "### Como descobrir o tipo de um valor?\n",
    "\n",
    "A **função** [`type`](https://docs.python.org/3/library/functions.html#type) é nativa do Python e pode ser usada para descobrir o tipo de um dado valor.\n",
    "\n",
    "> **Funções** são estruturas que recebem dados de entrada (*input*) e criam como resultado dados de saída (*output*) segundo um conjunto de instruções pré-definidas. Veremos este tópico mais adiante, mas por enquanto saiba que para utilizá-las você deve seguir a sintaxe: `nome_funcao(input)`. Experimente na célula abaixo!"
   ]
  },
  {
   "cell_type": "code",
   "execution_count": null,
   "metadata": {
    "collapsed": true
   },
   "outputs": [],
   "source": []
  },
  {
   "cell_type": "markdown",
   "metadata": {},
   "source": [
    "> **Comentários**: Linhas de código precedidas por um `#` são comentários, que funcionam como mensagens a quem está lendo seu código, normalmente outros programadores. É comum utilizar comentários para documentar partes de um código, ou marcar regiões que devem ser trabalhadas futuramente. Qualquer coisa escrita na mesma linha à direita do símbolo é simplesmente ignorada pelo interpretador."
   ]
  },
  {
   "cell_type": "code",
   "execution_count": null,
   "metadata": {
    "collapsed": true
   },
   "outputs": [],
   "source": [
    "#print(\"First line\")\n",
    "print(\"Second line\")"
   ]
  },
  {
   "cell_type": "markdown",
   "metadata": {},
   "source": [
    "Agora que você já conhece os principais tipos (que por sinal existem em grande parte das linguagens de programação) podemos começar a \"encaixar blocos\", ou seja, escrever código. Nas seções seguintes você verá como fazê-lo para resolver diferentes tipos de problemas."
   ]
  },
  {
   "cell_type": "markdown",
   "metadata": {},
   "source": [
    "---"
   ]
  },
  {
   "cell_type": "markdown",
   "metadata": {},
   "source": [
    "## 3. Seu primeiro programa"
   ]
  },
  {
   "cell_type": "markdown",
   "metadata": {},
   "source": [
    "##### A calculadora bacteriana\n",
    "\n",
    "Você trabalha no laboratório de Microbiologia e está cultivando uma colônia de bactérias para seu experimento em um meio rico em nutrientes. Você sabe que o tempo médio que estas bactérias levam para se reproduzir por fissão binária - ou *tempo de geração* - é de 20 minutos. Como construir um **modelo** para estimar o tamanho desta população no meio como resultado do tempo decorrido desde sua colonização? Por simplicidade, vamos considerar aqui que o crescimento é **exponencial** durante todo o processo."
   ]
  },
  {
   "cell_type": "markdown",
   "metadata": {},
   "source": [
    "##### Desenvolvimento\n"
   ]
  },
  {
   "cell_type": "markdown",
   "metadata": {},
   "source": [
    "Seu primeiro programa será esta calculadora bacteriana. Ela funcionará com base em um modelo matemático bastante simples criado para o estudo de crescimento em populações biológicas: o **modelo de crescimento exponencial**\n",
    "\n",
    "$$ N(t)=N_i\\cdot 2^{ \\frac{t}{g}}$$\n",
    "\n",
    "em que:\n",
    "* $N(t)$ é o tamanho populacional no tempo $t$;\n",
    "* $N_i$ é o tamanho da população colonizadora;\n",
    "* $t$ é o tempo decorrido desde a colonização;\n",
    "* $g$ é o tempo de geração da bactéria.\n",
    "\n",
    "Precisamos representar este modelo no computador. Para isso precisaremos entender sobre **operadores**, **expressões** e **variáveis**."
   ]
  },
  {
   "cell_type": "markdown",
   "metadata": {},
   "source": [
    "### 3.1 Operadores e expressões"
   ]
  },
  {
   "cell_type": "markdown",
   "metadata": {},
   "source": [
    "**Operadores** são símbolos que realizam computações mais fundamentais - como por exemplo soma, subtração, multiplicação e divisão -, utilizando sintaxes pré-definidas. Um resultado é obtido a partir de sua atuação sobre dois operandos. **Expressões** são escritas combinando valores e operadores, e sua avaliação fornece algum resultado. Experimente abaixo os operadores aritméticos de soma, subtração, multiplicação, exponencial, divisão e módulo (`+`, `-`, `*`, `**`, `/`, `%`)."
   ]
  },
  {
   "cell_type": "code",
   "execution_count": null,
   "metadata": {
    "collapsed": true
   },
   "outputs": [],
   "source": [
    "# Somar 9 com 9\n",
    "print(\"9 + 9 =\", )\n",
    "\n",
    "# Subtrair 194 de 257\n",
    "print(\"257 - 194 =\", )\n",
    "\n",
    "# Multiplicar 137 e 7\n",
    "print(\"137 x 7 =\", )\n",
    "\n",
    "# Exponenciar 2 à 8 potência\n",
    "print(\"2^8 = \", )\n",
    "\n",
    "# Dividir 91 por 6\n",
    "print(\"91 / 6 =\", )\n",
    "\n",
    "# Divisão inteira de 91 por 6\n",
    "print(\"91 / 6 =\", )\n",
    "\n",
    "# Resto da divisão (módulo) de 91 por 6\n",
    "print(\"resto de 91 / 6 =\", )"
   ]
  },
  {
   "cell_type": "markdown",
   "metadata": {},
   "source": [
    "A ordem de avaliação dos elementos em uma expressão segue a mesma convenção utilizada na matemática. Elementos entre parênteses têm prioridade (precedência) durante a avaliação.\n",
    "\n",
    "Represente em código a expressão: $$ \\frac{3+(3\\times5)}{2\\times(2+3)} $$"
   ]
  },
  {
   "cell_type": "code",
   "execution_count": null,
   "metadata": {
    "collapsed": true
   },
   "outputs": [],
   "source": []
  },
  {
   "cell_type": "markdown",
   "metadata": {},
   "source": [
    "> Alguns operadores podem também operar sobre outros tipos não-numéricos. Experimente por exemplo somar *strings*."
   ]
  },
  {
   "cell_type": "code",
   "execution_count": null,
   "metadata": {
    "collapsed": true
   },
   "outputs": [],
   "source": []
  },
  {
   "cell_type": "markdown",
   "metadata": {},
   "source": [
    "### 3.2 Variáveis e atribuições"
   ]
  },
  {
   "cell_type": "markdown",
   "metadata": {},
   "source": [
    "Quando estamos programando é frequente precisarmos utilizar valores obtidos em etapas anteriores do código sem ter que executá-lo todo novamente. Linguagens de programação oferecem uma maneira bastante intuitiva para mantermos referência a estes valores anteriormente computados: variáveis.\n",
    "\n",
    "Para associar uma variável a um valor basta utilizar a **notação de atribuição**:\n",
    "\n",
    "`myVariable = \"Value\"`\n",
    "\n",
    "A partir daí, o valor se torna acessível utilizando o nome da variável."
   ]
  },
  {
   "cell_type": "markdown",
   "metadata": {
    "collapsed": true
   },
   "source": [
    "Atribua o resultado da equação $ \\bigg[ \\frac{3\\times(2+5)-20}{3} \\bigg] ^2$ à variável **`a`** e o resultado de $\\sqrt 2 + 1$ à variável **`b`**. \n",
    "\n",
    "Em seguida compute o resultado de $2a + b$. \n",
    "\n",
    "**obs**: $\\sqrt 2 = 2^{ \\frac{1}{2}}$"
   ]
  },
  {
   "cell_type": "code",
   "execution_count": null,
   "metadata": {
    "collapsed": true
   },
   "outputs": [],
   "source": [
    "# Resultado esperado: 2.6364357845953172"
   ]
  },
  {
   "cell_type": "markdown",
   "metadata": {},
   "source": [
    "> Na maioria das linguagens de programação o símbolo `=` é usado para **atribuição** de um valor (à direita) a uma variável (à direita). Se desejarmos comparar os resultados de duas expressões utilizamos o operador `==`, conhecido como **operador de igualdade**. O resultado deste operador sobre duas expressões é do tipo *booleano* (*True/False*), e informa se as duas expressões resultam ou não no mesmo valor."
   ]
  },
  {
   "cell_type": "code",
   "execution_count": null,
   "metadata": {
    "collapsed": true
   },
   "outputs": [],
   "source": [
    "# 5 = 3 ?"
   ]
  },
  {
   "cell_type": "code",
   "execution_count": null,
   "metadata": {
    "collapsed": true
   },
   "outputs": [],
   "source": [
    "# 5 = 3+2 ?"
   ]
  },
  {
   "cell_type": "markdown",
   "metadata": {},
   "source": [
    "> **Palavras reservadas**: Alguns nomes possuem significado especial para a linguagem de programação, e não devem ser usados como nomes de variáveis. No ambiente *Jupyter* palavras reservadas ou funções nativas são destacadas em verde, para que o programador evite utilizá-las. Veja a [lista](https://docs.python.org/3/reference/lexical_analysis.html#keywords) de palavras reservadas em *Python*."
   ]
  },
  {
   "cell_type": "markdown",
   "metadata": {},
   "source": [
    "##### Exercício 3.2.1 \n",
    "Verifique se as equações abaixo são corretas:\n",
    "\n",
    "a) $2 \\times 2.0 = 4$"
   ]
  },
  {
   "cell_type": "code",
   "execution_count": null,
   "metadata": {
    "collapsed": true
   },
   "outputs": [],
   "source": []
  },
  {
   "cell_type": "markdown",
   "metadata": {},
   "source": [
    "b) $2 \\times 3 = 5$"
   ]
  },
  {
   "cell_type": "code",
   "execution_count": null,
   "metadata": {
    "collapsed": true
   },
   "outputs": [],
   "source": []
  },
  {
   "cell_type": "markdown",
   "metadata": {},
   "source": [
    "c) $4a + 3 = b$, para $a=3$ e $b=15$ (primeiro declare as variáveis **a** e **b**)"
   ]
  },
  {
   "cell_type": "code",
   "execution_count": null,
   "metadata": {
    "collapsed": true
   },
   "outputs": [],
   "source": []
  },
  {
   "cell_type": "markdown",
   "metadata": {},
   "source": [
    "##### Exercício 3.2.2 \n",
    "Declare as variáveis $a=\\frac{2}{2}$ e $b = 1^2$. Em seguida descubra se elas possuem o mesmo **tipo** e **valor**."
   ]
  },
  {
   "cell_type": "code",
   "execution_count": null,
   "metadata": {
    "collapsed": true
   },
   "outputs": [],
   "source": []
  },
  {
   "cell_type": "code",
   "execution_count": null,
   "metadata": {
    "collapsed": true
   },
   "outputs": [],
   "source": []
  },
  {
   "cell_type": "code",
   "execution_count": null,
   "metadata": {
    "collapsed": true
   },
   "outputs": [],
   "source": []
  },
  {
   "cell_type": "markdown",
   "metadata": {},
   "source": [
    "Agora vamos voltar à calculadora bacteriana. Usando os princípios apresentados acima você pode finalmente construir o modelo computacional que estará por trás da calculadora. Execute seu modelo com valores diferentes para cada uma das variáveis e observe os resultados."
   ]
  },
  {
   "cell_type": "code",
   "execution_count": null,
   "metadata": {
    "collapsed": true
   },
   "outputs": [],
   "source": [
    "#    1. Declare as variáveis N_i, t e g;\n",
    "#    2. Associe o resultado do cálculo do tamanho populacional a uma variável-resposta N_t;\n",
    "#    3. Imprima N_t no console\n",
    "\n"
   ]
  },
  {
   "cell_type": "markdown",
   "metadata": {},
   "source": [
    "Parabéns pela construção do seu primeiro programa! Agora que você já é capaz de representar equações matemáticas no seu computador poderá ir com o tempo aprimorando seus modelos, tornando-os cada vez mais complexos. Você deve ter percebido que o uso de variáveis torna seu modelo mais compreensivel e reutilizável, bastando modificar os valores associados às variáveis para computar novos resultados. Entretanto em muitos casos nosso problema requer que armazenemos valores de forma **estruturada**."
   ]
  },
  {
   "cell_type": "markdown",
   "metadata": {},
   "source": [
    "---"
   ]
  },
  {
   "cell_type": "markdown",
   "metadata": {},
   "source": [
    "## 4. Organizando e estruturando informações"
   ]
  },
  {
   "cell_type": "markdown",
   "metadata": {},
   "source": [
    "##### Guia de espécies Zoovert v0.1\n",
    "\n",
    "Você conseguiu um projeto REUNI com o professor de Zoologia de Vertebrados para a elaboração de material instrucional para a disciplina. Seu projeto é construir um guia para auxiliar na identificação de espécies nas saídas de campo, na forma de um aplicativo mobile. Você pretende que ele seja um guia colaborativo, o que significa que espécies coletadas em saídas de campo de turmas consecutivas serão automaticamente incluidas na base de dados do seu guia, para servir de apoio para as turmas seguintes. O guia funcionará da seguinte forma: Para cada localidade em que a saída pode ser feita (por exemplo FAL, Jardim Botânico, IBGE...) você manterá uma lista das espécies mais comuns que ocorrem ali. Assim, os alunos terão sugestões das espécies mais prováveis de serem encontradas na região, o que facilitará na atividade de identificação. Quando terminarem de identificar as espécies que coletaram (algumas serão novas), eles as incluirão no guia. Você já possui a lista de espécies produzida pela turma do primeiro semestre de 2017:"
   ]
  },
  {
   "cell_type": "markdown",
   "metadata": {},
   "source": [
    "| Localidade | Espécie| Nome comum | Contagem | Turma\n",
    "|--|--|\n",
    "| FAL | *Ameiva ameiva*| Calango | 4 | Zoovert 1/2017\n",
    "| FAL | *Phyllomedusa oreades* | Perereca-arborícola | 2 | Zoovert 1/2017\n",
    "| FAL | *Artibeus sp.* | Morcego | 4 | Zoovert 1/2017\n",
    "| FAL | *Athene cunicularia* | Coruja-buraqueira | 5 | Zoovert 1/2017\n",
    "| FAL | *Hypostomus sp.* | Peixe-cascudo | 7 | Zoovert 1/2017\n",
    "| FAL | *Cariama cristata* | Seriema | 4 | Zoovert 1/2017\n",
    "| JBB | *Ameiva ameiva* | Calango | 1 | Zoovert 1/2017\n",
    "| JBB | *Chrysocyon brachyurus* | Lobo-guará | 1 | Zoovert 1/2017\n",
    "| JBB | *Cariama cristata* | Seriema | 2 | Zoovert 1/2017\n",
    "| IBGE | *Bothrops neuwiedi*  | Jararaca | 1 | Zoovert 1/2017"
   ]
  },
  {
   "cell_type": "markdown",
   "metadata": {},
   "source": [
    "##### Desenvolvimento"
   ]
  },
  {
   "cell_type": "markdown",
   "metadata": {},
   "source": [
    "Este é um projeto complexo, mas você pode começar desenvolvendo as funcionalidades mais simples. Em primeiro lugar você precisará encontrar uma forma de representar suas **listas** de espécies no programa. Adivinhe só! O *Python* já tem uma estrutura pronta para te ajudar nisso!"
   ]
  },
  {
   "cell_type": "markdown",
   "metadata": {},
   "source": [
    "### 4.1 Listas\n",
    "Listas (tipo *list*) são estruturas de dados nativas em *Python* que armazenam um conjunto de valores que podem ter tipos diferentes. A ordem dos valores armazenados na lista permanece a mesma em que foram inseridos.\n",
    "* Criar uma lista: Insira valores separados entre si por vírgulas entre colchetes: `[v1,v2,v3]`;\n",
    "* Acessar um elemento dentro da lista: Use a notação de **indexação**: `myList[i]`, sendo `i` o índice do elemento que queremos acessar na lista referenciada pela variável `myList`;\n",
    "> **Indexação**: Cada elemento dentro de uma lista *Python* é associado a um índice numérico, que vai de `0` a `n-1`, sendo `n` o número de elementos na lista. \n",
    "\n",
    "Construa e atribua à variável `especies` uma lista contendo os nomes de suas três espécies favoritas na lista de espécies da turma de Zoovert 1/2017. Em seguida, na mesma célula, acesse o segundo elemento desta lista."
   ]
  },
  {
   "cell_type": "code",
   "execution_count": null,
   "metadata": {
    "collapsed": true
   },
   "outputs": [],
   "source": [
    "especies = # seu código aqui"
   ]
  },
  {
   "cell_type": "code",
   "execution_count": null,
   "metadata": {
    "collapsed": true
   },
   "outputs": [],
   "source": []
  },
  {
   "cell_type": "markdown",
   "metadata": {},
   "source": [
    "Sublistas podem ser obtidas a partir de listas através da notação de ***slicing***. Para obter um *slice* (pedaço) de uma lista utilize a notação de indexação, trocando o `i` entre colchetes por dois índices que simbolizam os elementos de início e fim (não-inclusivo) separados por dois-pontos: `[i:j]`. \n",
    "\n",
    "Obtenha uma sublista da lista `especies` contendo apenas as duas primeiras espécies. "
   ]
  },
  {
   "cell_type": "code",
   "execution_count": null,
   "metadata": {
    "collapsed": true
   },
   "outputs": [],
   "source": []
  },
  {
   "cell_type": "markdown",
   "metadata": {},
   "source": [
    "Listas podem ser geradas em tempo real a partir da função `list`, usando por exemplo elementos retornados por outras funções como entrada (*input*)."
   ]
  },
  {
   "cell_type": "markdown",
   "metadata": {},
   "source": [
    "> A função **`range`** gera uma sequência de números que podem ser utilizados, por exemplo, para a construção de uma lista. Tente criar uma lista de dez números (0 até 9). Para isso chame a função `range` utilizando como argumentos (input) o número de elementos que devem ser gerados. Em seguida utilize a saída da função `range` como entrada para a função `list`. Se precisar, consulte a documentação das funções com o atalho `shift + tab` (o cursor precisa estar entre os parênteses da chamada da função)."
   ]
  },
  {
   "cell_type": "code",
   "execution_count": null,
   "metadata": {
    "collapsed": true
   },
   "outputs": [],
   "source": []
  },
  {
   "cell_type": "markdown",
   "metadata": {},
   "source": [
    "Outras funções nativas de *Python* permitem manipular listas facilmente. Experimente as funções abaixo.\n",
    "* `len`: retorna o tamanho de uma lista;\n",
    "* `reversed`: retorna uma cópia da lista com os elementos em ordem invertida;\n",
    "* `max` e `min`: retorna o maior e menor valor dentro da lista, respectivamente;\n"
   ]
  },
  {
   "cell_type": "code",
   "execution_count": null,
   "metadata": {
    "collapsed": true
   },
   "outputs": [],
   "source": []
  },
  {
   "cell_type": "markdown",
   "metadata": {},
   "source": [
    "O **operador `in`** é bastante útil quando estamos trabalhando com listas. A **expressão** na forma:\n",
    "\n",
    "`elemento` **`in`** `lista` \n",
    "\n",
    "retorna *True* se o elemento de fato existe e *False* caso contrário."
   ]
  },
  {
   "cell_type": "markdown",
   "metadata": {},
   "source": [
    "Verifique se 'Bothrops neuwiedi' está dentre suas espécies favoritas. "
   ]
  },
  {
   "cell_type": "code",
   "execution_count": null,
   "metadata": {
    "collapsed": true
   },
   "outputs": [],
   "source": []
  },
  {
   "cell_type": "code",
   "execution_count": null,
   "metadata": {
    "collapsed": true
   },
   "outputs": [],
   "source": []
  },
  {
   "cell_type": "markdown",
   "metadata": {},
   "source": [
    "O **operador +** possui um significado especial quando se trata de listas. Ele permite criar uma nova lista usando os elementos da lista anterior e o novo elemento inserido ao final. \n",
    "\n",
    "**Obs:** Ambos os valores operados devem ser do tipo lista!"
   ]
  },
  {
   "cell_type": "markdown",
   "metadata": {},
   "source": [
    "Adicione uma nova espécie à lista `especies`. O que acontece se você executar este comando repetidamente? Como você poderia resolver este problema usando *slicing*?"
   ]
  },
  {
   "cell_type": "code",
   "execution_count": null,
   "metadata": {
    "collapsed": true
   },
   "outputs": [],
   "source": []
  },
  {
   "cell_type": "markdown",
   "metadata": {},
   "source": [
    "Agora que você já sabe um pouco sobre listas, construa três listas `fal_especies`, `jbb_especies` e `ibge_especies` armazenando as espécies que ocorrem nas respectivas localidades."
   ]
  },
  {
   "cell_type": "code",
   "execution_count": null,
   "metadata": {
    "collapsed": true
   },
   "outputs": [],
   "source": []
  },
  {
   "cell_type": "markdown",
   "metadata": {},
   "source": [
    "Ótimo! Já temos as listas de espécies para cada localidade. Porém as listas para cada localidade estão armazenadas em estruturas separadas. Além disso estas listas por si só não nos permitem armazenar informações sobre cada espécie, por exemplo o número de registros de cada. Dessa forma não podemos nem saber quais são as mais comuns. Para incluir informações adicionais sobre cada espécie e armazená-las em uma estrutura comum recorra aos **dicionários**."
   ]
  },
  {
   "cell_type": "markdown",
   "metadata": {},
   "source": [
    "### 4.2 Dicionários"
   ]
  },
  {
   "cell_type": "markdown",
   "metadata": {
    "collapsed": true
   },
   "source": [
    "Dicionários (tipo dict), assim como listas, são estruturas de dados que permitem armazenar conjuntos de valores. A principal diferença é que os valores são **indexados explicitamente** e não são ordenados. As chaves não precisam ser necessariamente numéricas. Podem ser, por exemplo, strings. Dicionários são também conhecidos como *mapas* ou *índices*."
   ]
  },
  {
   "cell_type": "markdown",
   "metadata": {},
   "source": [
    "#### Como criar um dicionário? \n",
    "  * Forma 1: Insira conjuntos de pares chave-valor (*key*,*value*) entre chaves: `{key1: value1, key2: value2}`;\n",
    "  * Forma 2: Utilize a função `dict` passando como *input* listas de tuplas `[(key1, value1), (key2,value2)]`;\n",
    " \n",
    "#### Como acessar um elemento em um dicionário?\n",
    "Use a notação de indexação: `myDict[k]`, sendo `k` o índice (chave) do elemento que queremos acessar"
   ]
  },
  {
   "cell_type": "markdown",
   "metadata": {},
   "source": [
    "Crie um dicionário chamado `dicionario_especies` contendo pares chave-valor. Cada par contém como chave o nome de uma localidade e como valor uma lista das espécies que ali ocorrem."
   ]
  },
  {
   "cell_type": "code",
   "execution_count": null,
   "metadata": {
    "collapsed": true
   },
   "outputs": [],
   "source": [
    "dicionario_especies = # o resto do código aqui (sem este comentário!)"
   ]
  },
  {
   "cell_type": "markdown",
   "metadata": {},
   "source": [
    "E se você quisesse armazenar outros **atributos** das espécies além de seus nomes? Você poderia construir um **dicionário de dicionários**! Neste caso cada chave estará associada ao valor que por sua vez é um dicionário. Veja o exemplo abaixo.\n",
    "\n",
    "```python\n",
    "dict_of_dicts = {\n",
    "    'key1': {'attr1': 1, 'attr2': True},\n",
    "    'key2': {'attr1': 4, 'attr2': False, 'attr3': \"extra\"},\n",
    "    'key3': {'attr1': 7, 'attr2': False}\n",
    "}```"
   ]
  },
  {
   "cell_type": "markdown",
   "metadata": {},
   "source": [
    "Para acessar o atributo 1 (`attr1`) da chave 2 (`key2`) por exemplo, a sintaxe é :\n",
    "```python\n",
    "dict_of_dicts['key2']['attr1']\n",
    "```"
   ]
  },
  {
   "cell_type": "markdown",
   "metadata": {},
   "source": [
    "Conhecendo listas e dicionários você já consegue estruturar em seu programa o conteúdo da lista de espécies da turma de Zoovert! Para decidir como estruturar os dados, precisamos primeiro pensar em como o usuário acessará as informações relevantes. Como a aplicação será um guia de coleta, queremos que o usuário informe sua localidade e a partir daí receba uma lista de espécies que potencialmente encontrará ali. Junto com os nomes da espécies, o usuário deve obter informações adicionais sobre cada espécie. Em seguida explore um pouco os tipos de consulta que você pode fazer com esta estrutura. Tente também descobrir como inserier espécies novas neste dicionário.\n",
    "\n",
    "**Dica**: Crie um dicionário de dicionários de dicionários chamado `dicionario_especies` para estruturar os dados."
   ]
  },
  {
   "cell_type": "markdown",
   "metadata": {},
   "source": [
    "Utilize a estrutura do dicionário abaixo para inserir os dados. Certifique-se de ter entendido bem a estrutura construída."
   ]
  },
  {
   "cell_type": "code",
   "execution_count": 55,
   "metadata": {
    "collapsed": true
   },
   "outputs": [],
   "source": [
    "dicionario_especies = {\n",
    "    'FAL': { 'Ameiva ameiva': { \n",
    "                'nome_comum':'calango',\n",
    "                'contagem': 4,\n",
    "                'turma': 'Zoovert 1/2017'\n",
    "             },\n",
    "             '': {}, \n",
    "             '': {},\n",
    "             '': {}\n",
    "           },\n",
    "    'JBB': { '': {},\n",
    "             '': {}\n",
    "           },\n",
    "    'IBGE': { '':{},\n",
    "              '': {}\n",
    "            }\n",
    "}"
   ]
  },
  {
   "cell_type": "markdown",
   "metadata": {},
   "source": [
    "Agora, usando a estrutura de dados que você acabou de construir responda:"
   ]
  },
  {
   "cell_type": "markdown",
   "metadata": {},
   "source": [
    "* Quais espécies foram registradas na FAL?"
   ]
  },
  {
   "cell_type": "code",
   "execution_count": null,
   "metadata": {
    "collapsed": true
   },
   "outputs": [],
   "source": []
  },
  {
   "cell_type": "markdown",
   "metadata": {},
   "source": [
    "* Quantas Athene cunicularia foram registradas na FAL?"
   ]
  },
  {
   "cell_type": "code",
   "execution_count": null,
   "metadata": {
    "collapsed": true
   },
   "outputs": [],
   "source": []
  },
  {
   "cell_type": "markdown",
   "metadata": {},
   "source": [
    "* Qual o nome vulgar do Chrysocyon brachyurus (que foi registrado no JBB)?"
   ]
  },
  {
   "cell_type": "code",
   "execution_count": null,
   "metadata": {
    "collapsed": true
   },
   "outputs": [],
   "source": []
  },
  {
   "cell_type": "markdown",
   "metadata": {},
   "source": [
    "Que legal! Você já conhece algumas das estruturas mais fundamentais da programação! Adicionando um pouco de *lógica* e *automação* seus programas certamente começarão a ficar mais interessantes! É isso que veremos nas próximas seções."
   ]
  },
  {
   "cell_type": "markdown",
   "metadata": {},
   "source": [
    "---"
   ]
  },
  {
   "cell_type": "markdown",
   "metadata": {},
   "source": [
    "## 5. Adicionando lógica aos seus programas"
   ]
  },
  {
   "cell_type": "markdown",
   "metadata": {},
   "source": [
    "##### Situação\n",
    "\n",
    "Seu orientador está ministrando uma disciplina e te pediu ajuda para gerenciar as notas dos alunos. Você deverá construir uma planilha com as notas das três provas (com pesos  de 20% para as duas primeiras e 60% para a terceira), média final e menção para cada um dos 30 alunos. A atribuição de menções segue a seguinte regra:\n",
    "\n",
    "$\n",
    "se  \\quad média \\ final \\geq 9 : menção = SS \\\\\n",
    "se \\quad 7 \\leq média \\ final < 9 : menção = MS \\\\ \n",
    "se \\quad 5 \\leq média \\ final < 7 : menção = MM \\\\ \n",
    "se \\quad 3 \\leq média \\ final < 5 : menção = MI \\\\ \n",
    "se \\quad média \\ final < 3 : menção = II \\\\ \n",
    "$\n",
    "\n",
    "Atribuir manualmente menções para cada aluno seria uma trabalheira se você não tivesse feito um minicurso de programação na semabio! =]"
   ]
  },
  {
   "cell_type": "markdown",
   "metadata": {},
   "source": [
    "##### Desenvolvimento\n",
    "\n",
    "Para resolver este problema vamos subdividi-lo em subproblemas e tentar resolvê-los individualmente.\n",
    "1. Calcular a média final do aluno baseado nas notas das provas `p1`, `p2` e `p3`;\n",
    "2. Usar a média final do aluno para obter a menção;\n",
    "3. Aplicar o cálculo da menção para todos os alunos da disciplina."
   ]
  },
  {
   "cell_type": "markdown",
   "metadata": {},
   "source": [
    "Com o que você aprendeu até agora você já consegue resolver o subproblema 1. Calcule a média final do aluno abaixo."
   ]
  },
  {
   "cell_type": "code",
   "execution_count": null,
   "metadata": {
    "collapsed": true
   },
   "outputs": [],
   "source": [
    "# notas das provas p1,p2,p3 em escala de 0-10\n",
    "p1 = 3\n",
    "p2 = 3.5\n",
    "p3 = 6"
   ]
  },
  {
   "cell_type": "code",
   "execution_count": null,
   "metadata": {
    "collapsed": true
   },
   "outputs": [],
   "source": [
    "# TODO: construir uma expressão para o cálculo da média final\n",
    "mFinal = "
   ]
  },
  {
   "cell_type": "markdown",
   "metadata": {},
   "source": [
    "> **obs: **O marcador *TODO* é utilizado em comentários para indicar alguma funcionalidade que precisa ser implementada pelo programador."
   ]
  },
  {
   "cell_type": "markdown",
   "metadata": {},
   "source": [
    "Você conseguiu obter a média final do aluno. Mas como tranformar a média em menção? Expressões condicionais ao resgate!"
   ]
  },
  {
   "cell_type": "markdown",
   "metadata": {},
   "source": [
    "### 5.1 Expressões condicionais"
   ]
  },
  {
   "cell_type": "markdown",
   "metadata": {},
   "source": [
    "Expressões condicionais são estruturas de decisão fundamentais nas linguagens de programação que permitem que um programa altere seu comportamento dependendo do estado em que se encontra. Elas se baseiam na verificação de uma determinada **condição**, uma expressão construída compondo variáveis e valores com **operadores lógicos** que pode ser avaliada como verdadeira (*True*) ou falsa (*False*). Os operadores lógicos `and`, `or`, `not` podem ser combinados para construir estruturas de decisão mais complexas."
   ]
  },
  {
   "cell_type": "markdown",
   "metadata": {},
   "source": [
    "Para executar um código dependendo de uma condição ter sido avaliada como verdadeira, utilizamos a construção básica:\n",
    "\n",
    "`if < condição >: < código a executar >`"
   ]
  },
  {
   "cell_type": "markdown",
   "metadata": {},
   "source": [
    "Veja o exemplo abaixo. Aqui a utilizaremos a condição de `a` ser maior que 10. Atribua valores diferentes a `a` e observe o que acontece quando `a < 10` e quando `a` > 10."
   ]
  },
  {
   "cell_type": "code",
   "execution_count": null,
   "metadata": {
    "collapsed": true
   },
   "outputs": [],
   "source": [
    "a = # insira um valor\n",
    "if a > 10:\n",
    "    print(\"Hello, World!\")"
   ]
  },
  {
   "cell_type": "markdown",
   "metadata": {},
   "source": [
    "Normalmente é também desejável executar um pedaço de 'código alternativo' quando a condição é avaliada como falsa. Para isso usamos a palavra reservada `else`."
   ]
  },
  {
   "cell_type": "code",
   "execution_count": null,
   "metadata": {
    "collapsed": true
   },
   "outputs": [],
   "source": [
    "a = # insira um valor\n",
    "if a >= 10:\n",
    "    print(\"Hello, World!\")\n",
    "else:\n",
    "    print(\"Executo o código alternativo\")"
   ]
  },
  {
   "cell_type": "markdown",
   "metadata": {},
   "source": [
    "Complete o código abaixo de forma que ele informe se um aluno foi aprovado ou reprovado em uma determinada disciplina dependendo de sua média final (0-10). A nota mínima para aprovação é 5.\n",
    "\n",
    "**Obs**: O operador `>=` significa \"maior ou igual a\"."
   ]
  },
  {
   "cell_type": "code",
   "execution_count": null,
   "metadata": {
    "collapsed": true
   },
   "outputs": [],
   "source": [
    "notaAluno = float( input(\"Insira a nota do aluno: \") ) # a função input() atribui a entrada do usuário à variável\n",
    "\n",
    "if :\n",
    "    print(\" \")\n",
    "else:\n",
    "    print(\" \")"
   ]
  },
  {
   "cell_type": "markdown",
   "metadata": {},
   "source": [
    "> **Indentação**. Você notou que na célula acima o código da função `print` nas linhas 4 e 6 está espaçado em 4 caracteres (ou 1 tab) da margem? Este espaçamento é conhecido como indentação, e indica quais linhas de código pertencem a um mesmo contexto, ou bloco. No caso acima, por exemplo, o `print` na linha 4 é executado caso a avaliação da linha 3 seja verdadeira, e sua indentação indica \"consequência\" da linha 3. Já o `print` na linha 6 é executado como \"consequência\" da linha 5. Em muitas linguagens de programação usamos esta convenção para manter nosso código mais organizado e legível. Em *Python*, entretanto, esta estruturação faz parte da linguagem e deve ser obrigatoriamente seguida. "
   ]
  },
  {
   "cell_type": "markdown",
   "metadata": {},
   "source": [
    "Perceba que seguir padrões de indentação facilita a compreensão do código especialmente em casos em que se encontra aninhado (em hierarquia), como é o caso da célula abaixo. Neste caso queremos testar mais de uma condição, e uma possível solução é aninhar expressões condicionais `if-else`. Veja como exemplo este questionário:"
   ]
  },
  {
   "cell_type": "code",
   "execution_count": null,
   "metadata": {
    "collapsed": true
   },
   "outputs": [],
   "source": [
    "nota = float( input(\"Qual nota você daria para este minicurso até agora? (0-5)\") )\n",
    "\n",
    "if nota >=5:\n",
    "    print(\"xD\")\n",
    "else:\n",
    "    if nota >= 4:\n",
    "        print(\"=D\")\n",
    "    else:   # entra no else se a nota for menor que 4\n",
    "        if nota >= 3:\n",
    "            print(\"=]\")\n",
    "        else:   # entra neste else se a nota for menor que 3\n",
    "            if nota >= 2:\n",
    "                print(\"=|\")\n",
    "            else: # entra neste else se a nota for menor que 2\n",
    "                if nota >= 1:\n",
    "                    print(\"=[\")\n",
    "                else: # entra neste else se a nota for menor que 1\n",
    "                    print(\"=`(\")"
   ]
  },
  {
   "cell_type": "markdown",
   "metadata": {},
   "source": [
    "Este código ficou meio confuso, com muitos níveis de indentação. Felizmente temos uma outra maneira mais clara de testar estas 5 condições. A palavra `elif` \"combina\" um `else` com um `if`:"
   ]
  },
  {
   "cell_type": "code",
   "execution_count": null,
   "metadata": {
    "collapsed": true
   },
   "outputs": [],
   "source": [
    "nota = float( input(\"Qual nota você daria para este minicurso até agora? (0-5)\") )\n",
    "\n",
    "if nota >=5:\n",
    "    print(\"xD\")\n",
    "    \n",
    "elif nota >= 4:\n",
    "    print(\"=D\")\n",
    "\n",
    "elif nota >= 3:\n",
    "    print(\"=]\")\n",
    "\n",
    "elif nota >= 2:\n",
    "    print(\"=|\")\n",
    "\n",
    "elif nota >= 1:\n",
    "    print(\"=[\")\n",
    "\n",
    "else:\n",
    "    print(\"=`(\")"
   ]
  },
  {
   "cell_type": "markdown",
   "metadata": {},
   "source": [
    "Agora você já consegue resolver o subproblema 2. Mãos à obra!"
   ]
  },
  {
   "cell_type": "code",
   "execution_count": null,
   "metadata": {
    "collapsed": true
   },
   "outputs": [],
   "source": [
    "# obter o cálculo da média final baseado nas notas das três provas\n",
    "p1= \n",
    "p2=\n",
    "p3=\n",
    "\n",
    "mFinal="
   ]
  },
  {
   "cell_type": "code",
   "execution_count": null,
   "metadata": {
    "collapsed": true
   },
   "outputs": [],
   "source": [
    "# TODO: usar a média final do aluno para obter sua menção\n",
    "\n"
   ]
  },
  {
   "cell_type": "markdown",
   "metadata": {},
   "source": [
    "Para resolver o subproblema 3 você poderia aplicar manualmente a estrutura condicional que acabou de construir para calcular as menções de todos os alunos da turma, um por um. Entretanto copiar e colar o mesmo código para cada um dos 30 alunos seria extremamente trabalhoso, além de originar um código enorme. Pior: e se você quisesse mudar os critérios para atribuição das menções? Teria que fazer a mesma mudança 30 vezes! \n",
    "\n",
    "Felizmente computadores são extremamente rápidos em tarefas bem definidas e repetitivas, e se enquadram muito bem para resolver este tipo de problema. Vamos aprender a inserir **automação** em nossos programas utilizando **estruturas de repetição**."
   ]
  },
  {
   "cell_type": "markdown",
   "metadata": {},
   "source": [
    "---"
   ]
  },
  {
   "cell_type": "markdown",
   "metadata": {},
   "source": [
    "## 6. Lidando com comandos repetitivos"
   ]
  },
  {
   "cell_type": "markdown",
   "metadata": {},
   "source": [
    "##### A computação te ajuda a não perder festas nos sábados!"
   ]
  },
  {
   "cell_type": "markdown",
   "metadata": {},
   "source": [
    "Você está cursando seu $4^o$ semestre, matriculado(a) em 6 disciplinas e ainda participa de várias atividades complementares na UnB, dentre elas seu projeto de IC. Justamente em uma semana em que você está com a agenda apertada seu professor de Biologia Molecular passou um exercício trabalhoso, que consiste em encontrar a sequência de RNA resultante da transcrição do gene A e depois os aminoácidos resultantes da tradução do RNA. O problema é que o gene é razoavelmente longo, considerando que se trata de um exercício. Eis a sequência da fita molde no sentido 3'->5' do gene A:\n",
    "\n",
    "`\n",
    "GATCCTCCATATACAACGGTATCTCCACCTCAGGTTTAGATCTCAACAACGGAACCATTGCCGACATGAGACAGTTAG\n",
    "GTATCGTCGAGAGTTACAAGCTAAAACGAGCAGTAGTCAGCTCTGCATCTGAAGCCGCTGAAGTTCTACTAAGGGTGG\n",
    "ATAACATCATCCGTGCAAGACCAAGAACCGCCAATAGACAACATATGTAACATATTTAGGATATACCTCGAAAATAAT\n",
    "AAACCGCCACACTGTCATTATTATAATTAGAAACAGAACGCAAAAATTATCCACTATATAATTCAAAGACGCGAAAAA\n",
    "AAAAGAACAACGCGTCATAGAACTTTTGGCAATTCGCGTCACAAATAAATTTTGGCAACTTATGTTTCCTCTTCGAGC\n",
    "AGTACTCGAGCCCTGTCTCAAGAATGTAATAATACCCATCGTAGGTATGGTTAAAGATAGCATCTCCACAACCTCAAA\n",
    "GCTCCTTGCCGAGAGTCGCCCTCCTTTGTCGAGTAATTTTCACTTTTCATATGAGAACTTATTTTCTTATTCTTTACT\n",
    "CTCACATCCTGTAGTGATTGACACTGCAACAGCCACCATCACTAGAAGAACAGAACAATTACTTAATAGAAAAATTAT\n",
    "ATCTTCCTCGAAACGATTTCCTGCTTCCAACATCTACGTATATCAAGAAGCATTCACTTACCATGACACAGCTTCAGA\n",
    "TTTCATTATTGCTGACAGCTACTATATCACTACTCCATCTAGTAGTGGCCACGCCCTATGAGGCATATCCTATCGGAA\n",
    "AACAATACCCCCCAGTGGCAAGAGTCAATGAATCGTTTACATTTCAAATTTCCAATGATACCTATAAATCGTCTGTAG\n",
    "ACAAGACAGCTCAAATAACATACAATTGCTTCGACTTACCGAGCTGGCTTTCGTTTGACTCTAGTTCTAGAACGTTCT\n",
    "CAGGTGAACCTTCTTCTGACTTACTATCTGATGCGAACACCACGTTGTATTTCAATGTAATACTCGAGGGTACGGACT\n",
    "CTGCCGACAGCACGTCTTTGAACAATACATACCAATTTGTTGTTACAAACCGTCCATCCATCTCGCTATCGTCAGATT\n",
    "TCAATCTATTGGCGTTGTTAAAAAACTATGGTTATACTAACGGCAAAAACGCTCTGAAACTAGATCCTAATGAAGTCT\n",
    "TCAACGTGACTTTTGACCGTTCAATGTTCACTAACGAAGAATCCATTGTGTCGTATTACGGACGTTCTCAGTTGTATA\n",
    "ATGCGCCGTTACCCAATTGGCTGTTCTTCGATTCTGGCGAGTTGAAGTTTACTGGGACGGCACCGGTGATAAACTCGG\n",
    "CGATTGCTCCAGAAACAAGCTACAGTTTTGTCATCATCGCTACAGACATTGAAGGATTTTCTGCCGTTGAGGTAGAAT\n",
    "TCGAATTAGTCATCGGGGCTCACCAGTTAACTACCTCTATTCAAAATAGTTTGATAATCAACGTTACTGACACAGGTA\n",
    "ACGTTTCATATGACTTACCTCTAAACTATGTTTATCTCGATGACGATCCTATTTCTTCTGATAAATTGGGTTCTATAA\n",
    "ACTTATTGGATGCTCCAGACTGGGTGGCATTAGATAATGCTACCATTTCCGGGTCTGTCCCAGATGAATTACTCGGTA\n",
    "AGAACTCCAATCCTGCCAATTTTTCTGTGTCCATTTATGATACTTATGGTGATGTGATTTATTTCAACTTCGAAGTTG\n",
    "TCTCCACAACGGATTTGTTTGCCATTAGTTCTCTTCCCAATATTAACGCTACAAGGGGTGAATGGTTCTCCTACTATT\n",
    "TTTTGCCTTCTCAGTTTACAGACTACGTGAATACAAACGTTTCATTAGAGTTTACTAATTCAAGCCAAGACCATGACT\n",
    "GGGTGAAATTCCAATCATCTAATTTAACATTAGCTGGAGAAGTGCCCAAGAATTTCGACAAGCTTTCATTAGGTTTGA\n",
    "AAGCGAACCAAGGTTCACAATCTCAAGAGCTATATTTTAACATCATTGGCATGGATTCAAAGATAACTCACTCAAACC\n",
    "ACAGTGCGAATGCAACGTCCACAAGAAGTTCTCACCACTCCACCTCAACAAGTTCTTACACATCTTCTACTTACACTG\n",
    "CAAAAATTTCTTCTACCTCCGCTGCTGCTACTTCTTCTGCTCCAGCAGCGCTGCCAGCAGCCAATAAAACTTCATCTC\n",
    "ACAATAAAAAAGCAGTAGCAATTGCGTGCGGTGTTGCTATCCCATTAGGCGTTATCCTAGTAGCTCTCATTTGCTTCC\n",
    "TAATATTCTGGAGACGCAGAAGGGAAAATCCAGACGATGAAAACTTACCGCATGCTATTAGTGGACCTGATTTGAATA\n",
    "ATCCTGCAAATAAACCAAATCAAGAAAACGCTACACCTTTGAACAACCCCTTTGATGATGATGCTTCCTCGTACGATG\n",
    "ATACTTCAATAGCAAGAAGATTGGCTGCTTTGAACACTTTGAAATTGGATAACCACTCTGCCACTGAATCTGATATTT\n",
    "CCAGCGTGGATGAAAAGAGAGATTCTCTATCAGGTATGAATACATACAATGATCAGTTCCAATCCCAAAGTAAAGAAG\n",
    "AATTATTAGCAAAACCCCCAGTACAGCCTCCAGAGAGCCCGTTCTTTGACCCACAGAATAGGTCTTCTTCTGTGTATA\n",
    "TGGATAGTGAACCAGCAGTAAATAAATCCTGGCGATATACTGGCAACCTGTCACCAGTCTCTGATATTGTCAGAGACA\n",
    "GTTACGGATCACAAAAAACTGTTGATACAGAAAAACTTTTCGATTTAGAAGCACCAGAGAAGGAAAAACGTACGTCAA\n",
    "GGGATGTCACTATGTCTTCACTGGACCCTTGGAACAGCAATATTAGCCCTTCTCCCGTAAGAAAATCAGTAACACCAT\n",
    "CACCATATAACGTAACGAAGCATCGTAACCGCCACTTACAAAATATTCAAGACTCTCAAAGCGGTAAAAACGGAATCA\n",
    "CTCCCACAACAATGTCAACTTCATCTTCTGACGATTTTGTTCCGGTTAAAGATGGTGAAAATTTTTGCTGGGTCCACT\n",
    "`\n",
    "\n",
    "A avaliação do exercício contará uma porcentagem alta da nota final, e seu professor já avisou que descontará pontos por cada aminoácido errado na sua resposta. Seus colegas de classe pretendem tirar a noite de sábado para resolver o exercício, já que é o único horário que têm disponível. Mas você tinha planos para ir a uma festa. Como resolver este exercício extremamente **repetitivo** de forma rápida e ainda garantir uma boa nota e a sua festa?"
   ]
  },
  {
   "cell_type": "markdown",
   "metadata": {},
   "source": [
    "##### Desenvolvimento"
   ]
  },
  {
   "cell_type": "markdown",
   "metadata": {},
   "source": [
    "O primeiro passo é subdividir o problema. Liste aqui os dois subproblemas que compõem seu exercício\n",
    "1. \n",
    "2. "
   ]
  },
  {
   "cell_type": "markdown",
   "metadata": {},
   "source": [
    "### 6.1 Estruturas de repetição: loops"
   ]
  },
  {
   "cell_type": "markdown",
   "metadata": {},
   "source": [
    "**Loops** (em português \"laços de repetição\") são estruturas que garantem que uma parte do código seja repetida várias vezes. No jargão da computação, chamamos cada repetição de um trecho de código de **iteração**. Existem dois tipos fundamentais de loops: (i) ***for* loops** e (ii) ***while* loops**. Por simplicidade por enquanto veremos apenas o primeiro tipo."
   ]
  },
  {
   "cell_type": "markdown",
   "metadata": {},
   "source": [
    "Tente entender o que o código abaixo faz. Em seguida, confirme sua hipótese executando a célula e observando a saída."
   ]
  },
  {
   "cell_type": "code",
   "execution_count": null,
   "metadata": {
    "collapsed": true
   },
   "outputs": [],
   "source": [
    "for i in range(10):\n",
    "    print (\"Iteração \" + str(i) )"
   ]
  },
  {
   "cell_type": "markdown",
   "metadata": {},
   "source": [
    "O que acontece é que quando usamos a estrutura **for** para repetir um trecho de código precisamos utilizar uma **variável de iteração** (no caso acima é a variável `i`, mas poderia ser qualquer outra, como por exemplo `gato`) e uma lista com os elementos que desejamos percorrer. No exemplo acima, `i in range(10)` significa que a variável de iteração  `i`, a cada iteração, assumirá o valor seguinte na lista `range(10)`."
   ]
  },
  {
   "cell_type": "markdown",
   "metadata": {},
   "source": [
    "Teste sua compreensão escrevendo na célula abaixo um loop para somar números de 0 a 10.\n",
    "\n",
    "**Dica:** Utilize uma variável contadora `ctr` (**counter variable**) para armazenar o resultado até cada iteração. Inicialmente ela terá valor zero. A cada iteração você só precisará atualizar o contador somando o número da iteração."
   ]
  },
  {
   "cell_type": "code",
   "execution_count": null,
   "metadata": {
    "collapsed": true
   },
   "outputs": [],
   "source": [
    "# TODO: somar números de 0 a 10 (solução = 55)"
   ]
  },
  {
   "cell_type": "markdown",
   "metadata": {},
   "source": [
    "> Strings também podem ser percorridas (*iteradas*) em um loop, usando a mesma sintaxe. Pense em uma String como uma lista de caracteres. Escreva abaixo um loop para transformar em caixa alto ( método `.upper()` ) cada caractere da string na variável `s`, que armazenará seu nome. **Dica**: Utilize uma string auxiliar `r` que armazenará o resultado após cada iteração do loop de forma análoga à situação anterior."
   ]
  },
  {
   "cell_type": "code",
   "execution_count": null,
   "metadata": {
    "collapsed": true
   },
   "outputs": [],
   "source": [
    "s = input(\"Insira seu nome: \")\n",
    "r = \"\"\n",
    "# TODO: percorrer seu nome e transformar cada caractere em caixa alto (uppercase)"
   ]
  },
  {
   "cell_type": "markdown",
   "metadata": {},
   "source": [
    "### 6.2 Funções"
   ]
  },
  {
   "cell_type": "markdown",
   "metadata": {},
   "source": [
    "Funções são como liquidificadores! Inserimos bananas e um copo de leite, ajustamos alguns parâmetros como o tempo de processamento e por fim recebemos uma deliciosa vitamina! E o melhor é que não precisamos entender os mínimos detalhes sobre como os mecanismos internos do aparelho funcionam para fazer nossa vitamina. Nem tampouco precisamos ter construído o liquidificador do zero para poder saboreá-la. Ainda, qualquer que fosse o liquidificador esperaríamos obter algo não muito diferente de uma vitamina, desde que utilizássemos os mesmos ingredientes e regulagens.\n",
    "\n",
    "<img src=\"img/blender_functions.png\">"
   ]
  },
  {
   "cell_type": "markdown",
   "metadata": {},
   "source": [
    "Agora de forma mais sofisticada, funções são construções que **encapsulam** um determinado comportamento que se espera executar múltiplas vezes durante a execução de um programa. São rotinas, que podem ter sido definidas pelo próprio programador ou por outros programadores. No caso do liquidificador, sua \"rotina\" foi definida pelo próprio fabricante. O usuário só precisa saber o que precisa fornecer como **entrada** (*input*) e o que deve esperar receber como **saída** (*output*)."
   ]
  },
  {
   "cell_type": "markdown",
   "metadata": {},
   "source": [
    "Funções facilitam sua vida por dois motivos principais. \n",
    "\n",
    "1. Permitem ao programador **abstrair** computações, sem precisar se preocupar a todo momento sobre os mínimos detalhes de como elas são de fato realizadas. Imagine se você tivesse que se preocupar como uma lista *Python* é criada e armazenada na memória do computador toda vez que você precisasse utilizar uma... Felizmente a função `list()` permite que a rotina de criação de uma lista seja abstraída para você, o que facilita bastante seu aprendizado! \n",
    "\n",
    "2. Permitem **compartilhar** e **reutilizar** código. Você poderia por exemplo construir uma função para resolver seu exercício e encaminhar para seu professor para que ele avalie seu trabalho! Assim ele poderá executar exatamente a mesma rotina que você para chegar à resposta do exercício. Quem sabe isso não te garantirá pontuação extra?\n",
    "\n",
    "Quando criamos (ou **definimos**) uma função escrevemos todas as etapas que devem ser realizadas por ela, bem como as variáveis que ela deve receber (*input*) e o resultado que ela produzirá como saída (*output*). Para executar uma função devemos **invocá-la** ou, em termos menos macabros, chamá-la."
   ]
  },
  {
   "cell_type": "markdown",
   "metadata": {},
   "source": [
    "Vejamos um exemplo de como **definir** uma função. A `funcaoSoma` aceita dois **argumentos** (*input*), realiza a soma e por fim retorna (*output*) o resultado."
   ]
  },
  {
   "cell_type": "code",
   "execution_count": null,
   "metadata": {
    "collapsed": true
   },
   "outputs": [],
   "source": [
    "def funcaoSoma(n1, n2):\n",
    "    resultado_soma = n1 + n2\n",
    "    return resultado_soma"
   ]
  },
  {
   "cell_type": "markdown",
   "metadata": {},
   "source": [
    "Vamos agora utilizar a `funcaoSoma`. Para isso vamos chamá-la. "
   ]
  },
  {
   "cell_type": "code",
   "execution_count": null,
   "metadata": {
    "collapsed": true
   },
   "outputs": [],
   "source": [
    "funcaoSoma(7,11)\n",
    "# ou funcaoSoma(n1=7, n2=11)\n",
    "# ou funcaoSoma(7, n2=11)"
   ]
  },
  {
   "cell_type": "markdown",
   "metadata": {},
   "source": [
    "O que nós fizemos foi executar a rotina definida na função atribuindo as variáveis `n1`e `n2` (**parâmetros**) aos valores 5 e 7 (**argumentos**)."
   ]
  },
  {
   "cell_type": "markdown",
   "metadata": {},
   "source": [
    "Defina abaixo a `funcaoSomaTodos` com parâmetros `n1` e `n2`. Esta função deve retornar a soma de todos os números de `n1` a `n2` (incluindo `n2`)."
   ]
  },
  {
   "cell_type": "code",
   "execution_count": null,
   "metadata": {
    "collapsed": true
   },
   "outputs": [],
   "source": []
  },
  {
   "cell_type": "code",
   "execution_count": null,
   "metadata": {
    "collapsed": true
   },
   "outputs": [],
   "source": [
    "# Este código verifica se sua função funciona corretamente\n",
    "assert( funcaoSomaTodos(7,11)==45 )"
   ]
  },
  {
   "cell_type": "markdown",
   "metadata": {},
   "source": [
    "> Funções possuem **escopo** próprio. O que isso significa é que as variáveis definidas e operadas dentro de uma função somente são visíveis dentro dela. Veja o exemplo abaixo. A variável `a` dentro da função `foo`, apesar de ter o mesmo nome que a **variável global** `a`, referencia outro valor neste contexto. A variável `b` só existe dentro do escopo da função `foo`, de forma que chamá-la fora do escopo gera um erro. A variável `c` é definida globalmente, e como não há nenhuma outra variável `c` definida dentro da função `foo`, seu valor global é assumido. Pense em escopos como uma hierarquia de contextos.  "
   ]
  },
  {
   "cell_type": "code",
   "execution_count": null,
   "metadata": {
    "collapsed": true
   },
   "outputs": [],
   "source": [
    "a = 10\n",
    "c = 30\n",
    "\n",
    "print(\"variável 'a' fora da função: \", a)\n",
    "print(\"variável 'c' fora da função: \", c)\n",
    "\n",
    "def foo(a,b): # definindo a função foo com parâmetros a e b\n",
    "    print(\"variável 'a' dentro da função: \", a)\n",
    "    print(\"variável 'b' dentro da função: \", b)\n",
    "    print(\"variável 'c' dentro da função: \", c)\n",
    "    return\n",
    "\n",
    "foo(1,2) # chamando a função foo com a=1 e b=2\n",
    "print(\"variável 'a' fora da função novamente: \", a)\n",
    "print(\"variável 'b' fora da função\", b)"
   ]
  },
  {
   "cell_type": "markdown",
   "metadata": {},
   "source": [
    "Agora que você já aprendeu o básico sobre *loops* e *funções* vamos voltar ao exercício de BioMol. Que tal escrever uma função para realizar cada um dos subproblemas individualmente? Dessa forma, além de você poder ajudar seus colegas, ainda mantém seu código mais organizado. O mapa `codigoGenetico` abaixo será util para converter trincas de bases nos aminoácidos. **Dica**: Para facilitar seu trabalho, construa também um mapa de bases complementares `complementoBase`."
   ]
  },
  {
   "cell_type": "code",
   "execution_count": 49,
   "metadata": {
    "collapsed": true
   },
   "outputs": [],
   "source": [
    "codigoGenetico =  {\n",
    "    'GCA': 'Ala', \n",
    "    'GCC': 'Ala',\n",
    "    'GCG': 'Ala',\n",
    "    'GCU': 'Ala',\n",
    "    \n",
    "    'AGA': 'Arg',\n",
    "    'AGG': 'Arg',\n",
    "    'CGA': 'Arg',\n",
    "    'CGC': 'Arg',\n",
    "    'CGG': 'Arg',\n",
    "    'CGU': 'Arg',\n",
    "    \n",
    "    'GAC': 'Asp',\n",
    "    'GAU': 'Asp',\n",
    "    \n",
    "    'AAC': 'Asn',\n",
    "    'AAU': 'Asn',\n",
    "    \n",
    "    'UGC': 'Cys',\n",
    "    'UGU': 'Cys',\n",
    "    \n",
    "    'GAA': 'Glu',\n",
    "    'GAG': 'Glu',\n",
    "    \n",
    "    'CAA': 'Gln',\n",
    "    'CAG': 'Gln',\n",
    "    \n",
    "    'GGA': 'Gly',\n",
    "    'GGC': 'Gly',\n",
    "    'GGG': 'Gly',\n",
    "    'GGU': 'Gly',\n",
    "    \n",
    "    'CAC': 'His',\n",
    "    'CAU': 'His',\n",
    "    \n",
    "    'AUA': 'Ile',\n",
    "    'AUC': 'Ile',\n",
    "    'AUU': 'Ile',\n",
    "    \n",
    "    'UUA': 'Leu',\n",
    "    'UUG': 'Leu',\n",
    "    'CUA': 'Leu',\n",
    "    'CUC': 'Leu',\n",
    "    'CUG': 'Leu',\n",
    "    'CUU': 'Leu',\n",
    "    \n",
    "    'AAA': 'Lys',\n",
    "    'AAG': 'Lys',\n",
    "    \n",
    "    'AUG': 'Met',\n",
    "    \n",
    "    'UUC': 'Phe',\n",
    "    'UUU': 'Phe',\n",
    "    \n",
    "    'CCA': 'Pro',\n",
    "    'CCC': 'Pro',\n",
    "    'CCG': 'Pro',\n",
    "    'CCU': 'Pro',\n",
    "    \n",
    "    'AGC': 'Ser',\n",
    "    'AGU': 'Ser',\n",
    "    'UCA': 'Ser',\n",
    "    'UCC': 'Ser',\n",
    "    'UCG': 'Ser',\n",
    "    'UCU': 'Ser',\n",
    "    \n",
    "    'ACA': 'Thr',\n",
    "    'ACC': 'Thr',\n",
    "    'ACG': 'Thr',\n",
    "    'ACU': 'Thr',\n",
    "    \n",
    "    'UGG': 'Trp',\n",
    "    \n",
    "    'UAC': 'Tyr',\n",
    "    'UAU': 'Tyr',\n",
    "    \n",
    "    'GUA': 'Val',\n",
    "    'GUC': 'Val',\n",
    "    'GUG': 'Val',\n",
    "    'GUU': 'Val',\n",
    "    \n",
    "    'UAA': 'stop',\n",
    "    'UAG': 'stop',\n",
    "    'UGA': 'stop'\n",
    "    \n",
    "}\n",
    "\n",
    "complementoBase = {\n",
    "    # seu código aqui\n",
    "}"
   ]
  },
  {
   "cell_type": "code",
   "execution_count": 81,
   "metadata": {
    "collapsed": true
   },
   "outputs": [],
   "source": [
    "# Escreva as funções aqui"
   ]
  },
  {
   "cell_type": "markdown",
   "metadata": {},
   "source": [
    "---"
   ]
  },
  {
   "cell_type": "markdown",
   "metadata": {},
   "source": [
    "## 7. Considerações Finais"
   ]
  },
  {
   "cell_type": "markdown",
   "metadata": {},
   "source": [
    "Os exemplos apresentados nesta aula serviram para mostrar que está ao seu alcance modelar um problema real em biologia usando uma linguagem de computação de alto nível como *Python*. Entretanto até agora apenas utilizamos *Python* puro, ou seja, apenas funcionalidades que estão incluídas no **núcleo** da linguagem. Pense em *Python* puro como um kit básico de lego, que somente contém os clássicos blocos montáveis em várias cores. É possível construir incríveis estruturas com eles, é verdade. Mas na prática, quando queremos agilidade no desenvolvimento de nossas aplicações quase nunca \"partimos do zero\". Recorremos a pedaços de código pronto (desenvolvidos por outros programadores), que já implementam bem algumas das funcionalidades básicas que desejamos incluir na aplicação. Estas funcionalidades normalmente são incluídas como **Bibliotecas**, **pacotes** e **módulos**. A biblioteca *Python-StarWars* abaixo, por exemplo, já fornece prontas peças de *stormtroopers*, *droids*, *wookies* e outros elementos indispensáveis para brincar de *Star Wars*. Imagine se você precisasse construir cada um dos elementos a partir do lego clássico para começar a brincar..."
   ]
  },
  {
   "cell_type": "markdown",
   "metadata": {},
   "source": [
    "<img src=\"img/lego_libraries.png\" >"
   ]
  },
  {
   "cell_type": "markdown",
   "metadata": {},
   "source": [
    "Veja uma lista de algumas bibliotecas e pacotes potencialmente interessantes para um biólogo:\n",
    "* [Biopython](http://biopython.org/) com funcionalidades específicas para aplicações em biologia molecular computacional, na **bioinformática**;\n",
    "* [Numpy](http://www.numpy.org/) para computação científica, com representações e operações otimizadas sobre objetos matemáticos;\n",
    "* [Pandas](http://pandas.pydata.org/) para representação de *Data frames* e análise de dados;\n",
    "* [Matplotlib](https://matplotlib.org/) para construção de figuras (visualização de dados);\n",
    "* [Statsmodels](http://www.statsmodels.org/stable/index.html) para trabalhar com modelos estatísticos;\n",
    "* [ScikitLearn](http://scikit-learn.org/stable/) para trabalhar com algoritmos de aprendizado de máquina;\n",
    "* [Networkx](https://networkx.github.io/) para construir modelos em redes complexas;\n",
    "* [ArcPy](http://desktop.arcgis.com/en/arcmap/10.3/analyze/arcpy/what-is-arcpy-.htm) é um pacote para automação de tarefas de análise e geração de mapas em ArcGis;\n",
    "* [Matplotlib Basemap](https://matplotlib.org/basemap/) é um conjunto de ferramentas para plotar mapas em python, utilizando como base a *Matplotlib*;\n",
    "* [Pygbif](http://pygbif.readthedocs.io/en/latest/) é um cliente *Python* que facilita o acesso a dados de ocorrência de espécies no [GBIF](https://www.gbif.org/) (Global Biodiversity Information Facility).\n",
    "\n",
    "entre muitos outros..."
   ]
  }
 ],
 "metadata": {
  "kernelspec": {
   "display_name": "Python 3",
   "language": "python",
   "name": "python3"
  },
  "language_info": {
   "codemirror_mode": {
    "name": "ipython",
    "version": 3
   },
   "file_extension": ".py",
   "mimetype": "text/x-python",
   "name": "python",
   "nbconvert_exporter": "python",
   "pygments_lexer": "ipython3",
   "version": "3.6.4"
  }
 },
 "nbformat": 4,
 "nbformat_minor": 2
}
