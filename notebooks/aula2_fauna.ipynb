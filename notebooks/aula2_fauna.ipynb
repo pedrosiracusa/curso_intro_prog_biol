{
 "cells": [
  {
   "cell_type": "markdown",
   "metadata": {},
   "source": [
    "<div class=\"row\">\n",
    "  <div class=\"col-xs-3 col-xs-offset-2\" style=\"text-align: center; margin-top: 10px;\">\n",
    "      <a href=\"https://semabioudf.wixsite.com/semabio\" style=\"text-decoration: none;\" >\n",
    "          <span style=\"font-size: 23px; color: #507786; \">2ª Semabio</span>\n",
    "          <span style=\"font-size: 22px; font-weight: bold;\">UDF</span>\n",
    "      </a>\n",
    "  </div>\n",
    "\n",
    "  <div class=\"col-xs-3\" style=\"margin-top: 14px;\">\n",
    "  <a href=\"http://www.lncc.br\" target=\"_blank\"><img src=\"img/lncc.png\" width=180></a>\n",
    "  </div>\n",
    "</div>"
   ]
  },
  {
   "cell_type": "markdown",
   "metadata": {},
   "source": [
    "## <center>Programação de Computadores para Estudantes de Biologia</center>\n",
    "###  <center>Uma Introdução Prática</center>\n",
    "\n",
    "---\n",
    "## <center>Aula 2. Monitoramento de Fauna</center>\n",
    "##### <center>Instrutor: <a href=\"https://pedrosiracusa.github.io\" target=\"_blank\">Pedro C. de Siracusa</a></center>\n",
    "##### <center>Data: Maio 2018</center>"
   ]
  },
  {
   "cell_type": "markdown",
   "metadata": {},
   "source": [
    "##### Conteúdos\n",
    "* [1. Navegando por Diretórios](#sec1)\n",
    "\n",
    "* [2. Leitura e Escrita de Arquivos](#sec2)\n",
    "  \n",
    "* [3. Vetores e Matrizes](#sec3)\n",
    "  \n",
    "* [4. Tuplas](#sec4)\n",
    "  \n",
    "* [5. Visualizando seu mapa](#sec5)\n",
    "\n",
    "* [6. Construindo a aplicação final](#sec6)"
   ]
  },
  {
   "cell_type": "markdown",
   "metadata": {},
   "source": [
    "---"
   ]
  },
  {
   "cell_type": "markdown",
   "metadata": {},
   "source": [
    "##### Contextualização\n",
    "\n",
    "Você está participando de um levantamento dos mamíferos que ocorrem no *Parque Nacional de Brasília* e está utilizando [armadilhas fotográficas](http://www.euquerobiologia.com.br/2012/02/armadilhas-fotograficas-para-estudo-de.html) (*camera traps*) para obter os registros. No experimento o território estudado foi dividido em um *grid* de 100 células (10x10), cada qual contendo uma armadilha. A Figura 1 ilustra a disposição das câmeras no grid."
   ]
  },
  {
   "cell_type": "markdown",
   "metadata": {},
   "source": [
    "<img src=\"img/trapcams_diagram.png\">"
   ]
  },
  {
   "cell_type": "markdown",
   "metadata": {},
   "source": [
    "Cada armadilha grava cada um de seus registros em um arquivo separado no cartão de memória, que são copiados para seu computador quando sua equipe vai a campo fazer as revisões. Para manter a organização sua equipe resolveu guardar os registros de cada câmera em diretórios separados, que levam o nome da câmera. Ao final do levantamento você precisará gerar um mapa de ocorrência das espécies, que se baseará no número de vezes que cada espécie foi registrada em cada grid. Seus colegas sugeriram que você analisasse cada um dos arquivos das 100 câmeras a cada revisão e adicionasse os novos dados a uma planilha no *Excel*. Mas como você já conhece um pouco sobre programação sabe que existe uma maneira muito mais prática de fazer este trabalho. Você quer desenvolver uma aplicação que receba do usuário o nome de uma espécie e automaticamente mostre o mapa da distribuição daquela espécie no grid."
   ]
  },
  {
   "cell_type": "markdown",
   "metadata": {},
   "source": [
    "##### Desenvolvimento"
   ]
  },
  {
   "cell_type": "markdown",
   "metadata": {},
   "source": [
    "Inicialmente precisamos extrair os registros de cada um dos arquivos em cada câmera. Os arquivos estão no diretório \"`./ctraps`\", separados em subdiretórios para cada uma das 100 câmeras. A notação \"`./`\" significa \"diretório atual\". Sendo assim, \"`./ctraps`\" se refere ao subdiretório chamado `ctraps` localizado no diretório em que estamos trabalhando atualmente. Para cada diretório referente a cada câmera existem arquivos que contêm registros de espécies. Por exemplo no diretório \"`./ctraps/cam013`\" existem quatro arquivos `REC1.txt`, `REC2.txt`, `REC3.txt` e `REC4.txt`, cada um contendo o nome de uma espécie. Vejamos a seguir como percorrer diretórios e ler/escrever arquivos no sistema."
   ]
  },
  {
   "cell_type": "markdown",
   "metadata": {},
   "source": [
    "> **Obs**: Se você está em sistema operacional *Microsoft Windows* diretórios são representados com \"`\\`\" no lugar de \"`/`\". No ambiente *Python*, entretanto, você pode continuar usando a representação *UNIX* \"`/`\"."
   ]
  },
  {
   "cell_type": "markdown",
   "metadata": {},
   "source": [
    "<span id=\"sec1\"></span>\n",
    "## 1. Navegando por diretórios\n"
   ]
  },
  {
   "cell_type": "markdown",
   "metadata": {},
   "source": [
    "Sistemas operacionais diferentes armazenam arquivos usando *sistemas de arquivos* distintos. O *Python* possui funcionalidades para abstrair estas particularidades e fornece ao programador um conjunto de funcionalidades para realizar leitura e escrita de arquivos de forma transparente, independentemente da plataforma que está utilizando (*Windows*, *MacOS* ou *Linux*). Estas funcionalidades estão no **módulo** [`os`](https://docs.python.org/3/library/os.html#module-os) (OS de *Operating System*, ou sistema operacional). Para utilizá-las precisamos **importar** o módulo."
   ]
  },
  {
   "cell_type": "markdown",
   "metadata": {},
   "source": [
    "> **Módulos** são arquivos de código (extensão `.py`) que possuem definições e declarações de funções, variáveis ou configurações. São utilizados para tornar o código reutilizável, reunindo funcionalidades auto-suficientes e facilmente \"plugáveis\". Veja o [índice de módulos](https://docs.python.org/3/py-modindex.html) do *Python*. Conjuntos de módulos que servem para uma finalidade comum podem ser agrupados em **pacotes**. Pacotes podem ser pensados como diretórios que reúnem módulos. Quando queremos utilizar um módulo precisamos **importá-lo**, utilizando para isso a palavra `import`."
   ]
  },
  {
   "cell_type": "markdown",
   "metadata": {},
   "source": [
    "Vejamos como percorrer a árvore de arquivos e diretórios que se encontram sob um diretório de origem (chamado **diretório-raiz**). A função [`listdir`](https://docs.python.org/3/library/os.html#os.listdir) do módulo `os` lista arquivos e subdiretórios de um determinado diretório-raiz. Como `listdir` pertence ao módulo importado `os`, para invocá-la precisamos informar isto explicitamente e usar a notação `os.listdir()`."
   ]
  },
  {
   "cell_type": "code",
   "execution_count": null,
   "metadata": {
    "collapsed": true
   },
   "outputs": [],
   "source": [
    "import os # o módulo precisa ser importado apenas uma vez durante a sessão"
   ]
  },
  {
   "cell_type": "code",
   "execution_count": null,
   "metadata": {
    "collapsed": true
   },
   "outputs": [],
   "source": [
    "diretorioRaiz = './'\n",
    "for elementos in os.listdir( diretorioRaiz ):\n",
    "    print( elementos )"
   ]
  },
  {
   "cell_type": "markdown",
   "metadata": {},
   "source": [
    "Apesar de o módulo `os` fornecer uma interface amigável para manipular e navegar diretórios e arquivos no sistema, o *Python* ainda fornece um atalho para lidar com escrita e leitura de arquivos: a função nativa [`open`](https://docs.python.org/3/library/functions.html#open)."
   ]
  },
  {
   "cell_type": "markdown",
   "metadata": {},
   "source": [
    "---"
   ]
  },
  {
   "cell_type": "markdown",
   "metadata": {},
   "source": [
    "<span id=\"sec2\"></span>\n",
    "## 2. Leitura e escrita de arquivos"
   ]
  },
  {
   "cell_type": "markdown",
   "metadata": {},
   "source": [
    "A função [`open`](https://docs.python.org/3/library/functions.html#open) é utilizada tanto para a escrita quanto para a leitura de arquivos. Uma vez que um arquivo é aberto o programador pode operar sobre ele, utilizando uma série de [**métodos**](https://docs.python.org/3/tutorial/inputoutput.html#methods-of-file-objects)."
   ]
  },
  {
   "cell_type": "markdown",
   "metadata": {},
   "source": [
    "> O conceito de **métodos** está além dos objetivos desta aula, portanto para simplificar seu entendimento considere que eles se comportam como funções. Para identificá-los perceba que métodos são sempre precedidos por um ponto em *Python*. Caso você queira entender um pouco mais sobre eles comece pesquisando sobre [**programação orientada a objetos**](http://www.devmedia.com.br/os-4-pilares-da-programacao-orientada-a-objetos/9264)."
   ]
  },
  {
   "cell_type": "markdown",
   "metadata": {},
   "source": [
    "\n",
    "##### Para ler um arquivo\n",
    "Utilize a função **`open`**, que recebe como *input* o caminho (*path*) para o arquivo e fornece como *output* uma referência ao arquivo aberto (*file handle*).\n",
    "\n",
    "##### Para criar um arquivo\n",
    "A função `open` também é utilizada para a criação de arquivos, porém com um segundo argumento `'w'`, que chama a função no modo escrita (*write mode*).\n",
    "\n",
    "**Obs:** Nunca se equeça de fechar um arquivo depois de trabalhar com ele! Utilize o método `f.close()`, sendo `f` a referência ao arquivo!"
   ]
  },
  {
   "cell_type": "markdown",
   "metadata": {},
   "source": [
    "Vejamos um exemplo. Vamos criar um arquivo, escrever algumas linhas e fechá-lo em seguida."
   ]
  },
  {
   "cell_type": "code",
   "execution_count": null,
   "metadata": {
    "collapsed": true
   },
   "outputs": [],
   "source": [
    "mensagem = \"\"\"Não é o mais forte que sobrevive.\n",
    "Nem o mais inteligente.\n",
    "Mas o que melhor se adapta às mudanças\n",
    "(Charles Darwin)\"\"\"\n",
    "\n",
    "f = open( './arquivo1.txt', 'w' )\n",
    "f.write( mensagem )\n",
    "f.close()"
   ]
  },
  {
   "cell_type": "markdown",
   "metadata": {},
   "source": [
    "Veja agora o arquivo criado no diretório de trabalho."
   ]
  },
  {
   "cell_type": "markdown",
   "metadata": {},
   "source": [
    "Vamos agora ler o conteúdo do arquivo e atribui-lo à variável `mensagemLida`."
   ]
  },
  {
   "cell_type": "code",
   "execution_count": null,
   "metadata": {
    "collapsed": true
   },
   "outputs": [],
   "source": [
    "f = open('./arquivo1.txt')\n",
    "mensagemLida = f.readlines()\n",
    "f.close()"
   ]
  },
  {
   "cell_type": "code",
   "execution_count": null,
   "metadata": {
    "collapsed": true
   },
   "outputs": [],
   "source": [
    "# veja aqui a saída de mensagemLida"
   ]
  },
  {
   "cell_type": "markdown",
   "metadata": {},
   "source": [
    "Agora que você já sabe como navegar por diretórios e ler arquivos programaticamente, escreva uma função `buscaRegistros`, que recebe como entrada o nome de uma câmera e retorna uma lista das espécies registradas por ela. Para ler o nome da espécie em cada arquivo veja o método [`readline`](https://docs.python.org/3/tutorial/inputoutput.html#methods-of-file-objects)."
   ]
  },
  {
   "cell_type": "code",
   "execution_count": null,
   "metadata": {
    "collapsed": true
   },
   "outputs": [],
   "source": [
    "def buscaRegistros( nomeCamera ):\n",
    "    # seu código aqui\n",
    "    return"
   ]
  },
  {
   "cell_type": "markdown",
   "metadata": {},
   "source": [
    "Com a função `buscarRegistros` você já consegue obter a lista de espécies registrada por qualquer uma das câmeras. Mas na realidade você quer saber quais espécies ocorrem em cada célula. Portanto é necessário inicialmente encontrar uma maneira de associar cada câmera a uma das células do grid no seu programa. Mas primeiramente, como representar o grid no computador? **Matrizes** podem ser uma saída!"
   ]
  },
  {
   "cell_type": "markdown",
   "metadata": {},
   "source": [
    "---"
   ]
  },
  {
   "cell_type": "markdown",
   "metadata": {
    "collapsed": true
   },
   "source": [
    "<span id=\"sec3\"></span>\n",
    "## 3. Vetores e Matrizes"
   ]
  },
  {
   "cell_type": "markdown",
   "metadata": {},
   "source": [
    "Na matemática um **vetor** (*array*) de $n$ dimensões é uma estrutura que armazena $n$ elementos:\n",
    "\n",
    "$$\n",
    "V=\n",
    "  \\begin{bmatrix}\n",
    "    a_1  \\\\\n",
    "    a_2  \\\\\n",
    "    \\vdots \\\\\n",
    "    a_n  \\\\\n",
    "  \\end{bmatrix}\n",
    "$$"
   ]
  },
  {
   "cell_type": "markdown",
   "metadata": {},
   "source": [
    "Uma **matriz** (*matrix*) é uma estrutura cuja dimensão é dada por um par de números $n \\times m$. Dizemos que uma matriz $n \\times m$ possui $n$ linhas e $m$ colunas. Você pode pensar em uma matriz como um vetor de vetores. Por outro lado você pode também pensar em um vetor como uma matriz de dimensão $n \\times 1$, ou seja, uma matriz de $n$ linhas e $1$ coluna. Por exemplo a matriz abaixo pode ser construída adicionando $m$ vetores de $n$ dimensões, um ao lado do outro:\n",
    "\n",
    "$$\n",
    "M=\n",
    "  \\begin{bmatrix}\n",
    "    a_{1,1} & a_{1,2} & \\cdots & a_{1,m}  \\\\\n",
    "    a_{2,1} & a_{2,2} & \\cdots & a_{2,m} \\\\\n",
    "    \\vdots  & \\vdots  & \\cdots & \\vdots \\\\\n",
    "    a_{n,1} & a_{n,2} & \\cdots & a_{n,m}  \\\\\n",
    "  \\end{bmatrix}\n",
    "$$\n",
    "\n"
   ]
  },
  {
   "cell_type": "markdown",
   "metadata": {},
   "source": [
    "Vetores e matrizes **não** são estruturas nativas em *Python*. Entretanto elas podem ser facilmente representadas por meio de listas. Lembre-se de que listas *Python* são indexadas a partir de 0, e não de 1 como nas matrizes acima! Representar um vetor como uma lista *Python* é trivial."
   ]
  },
  {
   "cell_type": "markdown",
   "metadata": {},
   "source": [
    "Considere o vetor $v$ abaixo:\n",
    "\n",
    "$$\n",
    "v=\n",
    "  \\begin{bmatrix}\n",
    "    12 \\\\\n",
    "    59 \\\\\n",
    "    43 \\\\\n",
    "    13 \\\\\n",
    "    8 \\\\\n",
    "  \\end{bmatrix}\n",
    "$$\n",
    "\n",
    "Qual a dimensão de $v$? Represente-o como uma lista e atribua à variável `v`."
   ]
  },
  {
   "cell_type": "code",
   "execution_count": null,
   "metadata": {
    "collapsed": true
   },
   "outputs": [],
   "source": [
    "v = # sua lista aqui"
   ]
  },
  {
   "cell_type": "markdown",
   "metadata": {},
   "source": [
    "Agora acesse o elemento $a_3$ de `v`."
   ]
  },
  {
   "cell_type": "code",
   "execution_count": null,
   "metadata": {
    "collapsed": true
   },
   "outputs": [],
   "source": []
  },
  {
   "cell_type": "markdown",
   "metadata": {},
   "source": [
    "> **Obs**: Por definição, um vetor somente armazena valores de **mesmo tipo**! Porém as listas *Python* não possuem esta restrição."
   ]
  },
  {
   "cell_type": "markdown",
   "metadata": {},
   "source": [
    "Para representar uma matriz criamos uma lista que contém listas. Cada uma das listas contidas representa um **vetor-linha**."
   ]
  },
  {
   "cell_type": "markdown",
   "metadata": {},
   "source": [
    "Considere a matriz *m* abaixo:\n",
    "\n",
    "$$\n",
    "m=\n",
    "  \\begin{bmatrix}\n",
    "    1 & 2 & 3 \\\\\n",
    "    4 & 5 & 6 \\\\\n",
    "    7 & 8 & 9 \\\\\n",
    "  \\end{bmatrix}\n",
    "$$\n",
    "\n",
    "Qual a dimensão de $m$? Represente-a como uma lista de vetores-linha e atribua à variável `m`."
   ]
  },
  {
   "cell_type": "code",
   "execution_count": null,
   "metadata": {
    "collapsed": true
   },
   "outputs": [],
   "source": [
    "m = # sua matriz aqui"
   ]
  },
  {
   "cell_type": "markdown",
   "metadata": {},
   "source": [
    "Agora acesse o elemento $a_{2,1}$ de `m`."
   ]
  },
  {
   "cell_type": "code",
   "execution_count": null,
   "metadata": {
    "collapsed": true
   },
   "outputs": [],
   "source": []
  },
  {
   "cell_type": "markdown",
   "metadata": {},
   "source": [
    "Acesse agora o elemento 8."
   ]
  },
  {
   "cell_type": "code",
   "execution_count": null,
   "metadata": {
    "collapsed": true
   },
   "outputs": [],
   "source": []
  },
  {
   "cell_type": "markdown",
   "metadata": {},
   "source": [
    "Construa uma função `somaLinhas` que receba como entrada uma matriz e forneça como resultado um vetor com a soma dos elementos em cada **linha** da matriz."
   ]
  },
  {
   "cell_type": "code",
   "execution_count": null,
   "metadata": {
    "collapsed": true
   },
   "outputs": [],
   "source": [
    "def somaLinhas( m ):\n",
    "    # seu código aqui\n",
    "    return"
   ]
  },
  {
   "cell_type": "code",
   "execution_count": null,
   "metadata": {
    "collapsed": true
   },
   "outputs": [],
   "source": [
    "# este código verifica se sua função somaLinhas funciona corretamente\n",
    "assert( somaLinhas([[1,2,3],[4,5,6],[7,8,9]])==[6,15,24] )"
   ]
  },
  {
   "cell_type": "markdown",
   "metadata": {},
   "source": [
    "Construa uma função `somaColunas` que receba como entrada uma matriz e forneça como resultado um vetor com a soma dos elementos em cada **coluna** da matriz."
   ]
  },
  {
   "cell_type": "code",
   "execution_count": null,
   "metadata": {
    "collapsed": true
   },
   "outputs": [],
   "source": [
    "def somaColunas( m ):\n",
    "    # seu código aqui\n",
    "    return"
   ]
  },
  {
   "cell_type": "code",
   "execution_count": null,
   "metadata": {
    "collapsed": true
   },
   "outputs": [],
   "source": [
    "# este código verifica se sua função somaColunas funciona corretamente\n",
    "assert( somaColunas([[1,2,3],[4,5,6],[7,8,9]])==[12,15,18] )"
   ]
  },
  {
   "cell_type": "markdown",
   "metadata": {},
   "source": [
    "Agora construa programaticamente uma matriz `m` de dimensão 5x7. Os elementos devem ser inteiros de 1 a 35 e estar ordenados por linhas. **Dica**: Utilize dois loops aninhados (um para controlar o número da linha `i` e outro para controlar o número da coluna `j`) e uma variável contadora para armazenar o número do próximo elemento."
   ]
  },
  {
   "cell_type": "code",
   "execution_count": null,
   "metadata": {
    "collapsed": true
   },
   "outputs": [],
   "source": [
    "m = []\n",
    "\n",
    "# seu código aqui\n",
    "\n",
    "m"
   ]
  },
  {
   "cell_type": "markdown",
   "metadata": {},
   "source": [
    "Agora que você já conhece as matrizes podemos voltar ao problema das câmeras no grid. O seu grid deve ser construído de forma análoga à matriz `m` na célula acima. Entretanto seria ótimo se tivéssemos uma maneira de especificar a dimensão da matriz que queremos construir. Lembre-se que a dimensão de uma matriz é dada por um **par** de números. O *Python* possui uma outra estrutura de dados nativa que é perfeita para armazenar pares, triplas, quádruplas, quíntuplas, (...) de coisas. Vamos conhecer as [**tuplas**](https://docs.python.org/3/tutorial/datastructures.html#tuples-and-sequences)."
   ]
  },
  {
   "cell_type": "markdown",
   "metadata": {},
   "source": [
    "---"
   ]
  },
  {
   "cell_type": "markdown",
   "metadata": {},
   "source": [
    "<span id=\"sec4\"></span>\n",
    "## 4. Tuplas"
   ]
  },
  {
   "cell_type": "markdown",
   "metadata": {},
   "source": [
    "Tuplas são estruturas muito parecidas com listas no sentido de que armazenam um conjunto de elementos que podem ter tipos diferentes. Inclusive utilizam o mesmo sistema de indexação, que vai de $0$ a $n-1$ para $n$ elementos.  Entretanto elas possuem algumas diferenças fundamentais. A primeira é sua forma de representação na linguagem: listas são representadas por elementos entre *colchetes*, enquanto tuplas por elementos entre *parênteses*. Segundo, tuplas são estruturas imutáveis, ou seja, seus elementos não podem ser modificados após sua criação. Veja o caso abaixo:"
   ]
  },
  {
   "cell_type": "code",
   "execution_count": null,
   "metadata": {
    "collapsed": true
   },
   "outputs": [],
   "source": [
    "l = [ 1,2,3,4,5 ]\n",
    "t = ( 1,2,3,4,5 )\n",
    "\n",
    "print(\"Lista: \"+str(l))\n",
    "print(\"Tupla: \"+str(t))"
   ]
  },
  {
   "cell_type": "markdown",
   "metadata": {},
   "source": [
    "podemos mudar o terceiro elemento de uma lista:"
   ]
  },
  {
   "cell_type": "code",
   "execution_count": null,
   "metadata": {
    "collapsed": true
   },
   "outputs": [],
   "source": [
    "l[2] = 10\n",
    "l"
   ]
  },
  {
   "cell_type": "markdown",
   "metadata": {},
   "source": [
    "mas não de uma tupla:"
   ]
  },
  {
   "cell_type": "code",
   "execution_count": null,
   "metadata": {
    "collapsed": true
   },
   "outputs": [],
   "source": [
    "t[2] = 10"
   ]
  },
  {
   "cell_type": "markdown",
   "metadata": {},
   "source": [
    "A terceira distinção entre tuplas e listas é conceitual. O número de elementos e a ordem em que devem ser inseridos em uma tupla fazem parte da informação que ela representa. Por exemplo tuplas de tamanho 2 (ou pares) são perfeitas para armazenar coordenadas geográficas `(lat,long)`. Entretanto se invertêssemos os valores de latitude e longitude na tupla acabaríamos representando uma coordenada diferente. Da mesma forma, se armazenássemos coordenadas lat-long com mais ou menos que dois elementos a informação estaria em essência errada."
   ]
  },
  {
   "cell_type": "markdown",
   "metadata": {},
   "source": [
    "---"
   ]
  },
  {
   "cell_type": "markdown",
   "metadata": {},
   "source": [
    "Escreva agora a função `criaGrid` que constrói uma matriz com a dimensão informada como argumento. O parâmetro `dim` deve receber uma tupla contendo o número de linhas e número de colunas da matriz, nessa ordem. Durante a criação inicialize cada elemento da matriz como [`None`](https://docs.python.org/3/library/constants.html#None). `None` representa nulidade, ou ausência de informação."
   ]
  },
  {
   "cell_type": "code",
   "execution_count": null,
   "metadata": {
    "collapsed": true
   },
   "outputs": [],
   "source": [
    "def criaGrid( dim ):\n",
    "    # seu código aqui\n",
    "    return"
   ]
  },
  {
   "cell_type": "code",
   "execution_count": null,
   "metadata": {
    "collapsed": true
   },
   "outputs": [],
   "source": [
    "# este código testa sua função criaGrid\n",
    "assert( criaGrid( (3,5) ) == [ [None,None,None,None,None],\n",
    "                               [None,None,None,None,None],\n",
    "                               [None,None,None,None,None] ])"
   ]
  },
  {
   "cell_type": "markdown",
   "metadata": {},
   "source": [
    "Agora que você tem uma função para construir seu grid, você precisa percorrê-lo e adicionar, a cada célula, a lista de espécies que foi registrada na respectiva câmera. Para facilitar seu trabalho comece definindo a função `pegaNomeCamera` que retorna o nome da câmera a partir do seu número. Em seguida defina a função `preencheGrid` que insere as listas de espécies nas células."
   ]
  },
  {
   "cell_type": "markdown",
   "metadata": {},
   "source": [
    "> **Obs**: Note que você precisa manter um registro do número de linhas e colunas do seu grid para percorrê-lo. Mantenha estas informações nas variáveis `grid_nLinhas` e `grid_nColunas`."
   ]
  },
  {
   "cell_type": "code",
   "execution_count": null,
   "metadata": {
    "collapsed": true
   },
   "outputs": [],
   "source": [
    "grid_nLinhas = # número de linhas do grid\n",
    "grid_nColunas = # número de colunas do grid"
   ]
  },
  {
   "cell_type": "code",
   "execution_count": null,
   "metadata": {
    "collapsed": true
   },
   "outputs": [],
   "source": [
    "def pegaNomeCamera( numCamera ):\n",
    "    # seu código aqui\n",
    "    return"
   ]
  },
  {
   "cell_type": "code",
   "execution_count": null,
   "metadata": {
    "collapsed": true
   },
   "outputs": [],
   "source": [
    "def preencheGrid( g, dim ):\n",
    "    # seu código aqui\n",
    "    return"
   ]
  },
  {
   "cell_type": "markdown",
   "metadata": {},
   "source": [
    "Excelente! Agora seu grid está representado na memória do seu computador. Mas para produzir o mapa de ocorrência ainda precisamos buscar, em todos os grids, se aquela espécie ocorre ou não. Para isso construa a função `ocorrenciaEspecies`, que aceita como argumentos o nome da espécie que você quer buscar, o grid e sua dimensão; e retorna uma lista de endereços das células onde a espécie ocorre. **Dica**: Para representar o endereço de cada célula use tuplas `(indice_linhas, indice_coluna)`."
   ]
  },
  {
   "cell_type": "code",
   "execution_count": null,
   "metadata": {
    "collapsed": true
   },
   "outputs": [],
   "source": [
    "def ocorrenciaEspecie( sp, grid, dim ):\n",
    "    # seu código aqui\n",
    "    return celulas"
   ]
  },
  {
   "cell_type": "markdown",
   "metadata": {},
   "source": [
    "Finalmente construa a função `criaMapa`, que a partir dos endereços gerados pela função `ocorrenciaEspecie` cria uma matriz do tamanho do seu grid com valores `1` caso a espécie ocorra em determinada célula ou `0` caso contrário."
   ]
  },
  {
   "cell_type": "code",
   "execution_count": null,
   "metadata": {
    "collapsed": true
   },
   "outputs": [],
   "source": [
    "def criaMapa( ends, dim ):\n",
    "    # seu código aqui\n",
    "    return"
   ]
  },
  {
   "cell_type": "markdown",
   "metadata": {},
   "source": [
    "Alternativamente você poderia criar um mapa diretamente do grid com as listas de espécies, sem precisar recorrer à função `ocorrenciaEspecie`. Implemente esta outra versão e decida qual é mais simples do ponto de vista do usuário. Como as duas funções têm o mesmo nome ficará definida na sessão a que for executada por último. Cabe a você escolher."
   ]
  },
  {
   "cell_type": "code",
   "execution_count": null,
   "metadata": {
    "collapsed": true
   },
   "outputs": [],
   "source": [
    "def criaMapa( sp, g, dim ):\n",
    "    # seu código aqui\n",
    "    return"
   ]
  },
  {
   "cell_type": "markdown",
   "metadata": {},
   "source": [
    "Para finalizar, crie uma função `listaEspecies` que varre seu grid e constrói uma lista com todas as espécies que ocorrem nele, associada ao número total de registros para cada uma delas. Note que cada espécie deve aparecer apenas uma vez na lista! **Dica**: lembre-se dos dicionários."
   ]
  },
  {
   "cell_type": "code",
   "execution_count": null,
   "metadata": {
    "collapsed": true
   },
   "outputs": [],
   "source": [
    "def listaEspecies(g,dim):\n",
    "    # seu código aqui\n",
    "    return"
   ]
  },
  {
   "cell_type": "markdown",
   "metadata": {},
   "source": [
    "Parabéns! Com um pouco de programação você automatizou o gerenciamento de seus dados de campo. A cada nova revisão do seu monitoramento é só re-executar seu código, desde que você continue mantendo o mesmo sistema de organização de arquivos e diretórios. De qualquer forma agora você poderá investir mais tempo em analisar seus resultados!"
   ]
  },
  {
   "cell_type": "markdown",
   "metadata": {},
   "source": [
    "---"
   ]
  },
  {
   "cell_type": "markdown",
   "metadata": {},
   "source": [
    "<span id=\"sec5\"></span>\n",
    "## 5. Visualizando seu mapa"
   ]
  },
  {
   "cell_type": "markdown",
   "metadata": {},
   "source": [
    "Uma das qualidades que tornam a linguagem *Python* tão adequada para aplicações em análises de dados é a existência de bibliotecas de visualização, que facilitam muito o processo de exploração de dados e criação de figuras científicas. A principal biblioteca de visualização em *Python* chama-se [*Matplotlib*](https://matplotlib.org/), que traz todas as funcionalidades-base para a geração das figuras. O módulo [*pyplot*](https://matplotlib.org/api/pyplot_api.html) oferece ao usuário uma interface facilitada, com funções e rotinas que se assemelham ao ambiente *Matlab*. Por meio deste módulo podemos controlar uma série de parâmetros da figura, como tamanho, título, legendas, eixos, etc. Veja a [galeria de figuras](https://matplotlib.org/gallery.html) da *Matplotlib*."
   ]
  },
  {
   "cell_type": "markdown",
   "metadata": {},
   "source": [
    "Além disso existem ainda outras bibliotecas de mais alto nível construídas com base na *Matplotlib*, que adicionam funcionalidades ou estilos. Para visualizar nosso mapa, por exemplo, utilizaremos a biblioteca [*Seaborn*](https://seaborn.pydata.org/index.html). Veja a [galeria](https://seaborn.pydata.org/examples/index.html) da *Seaborn*."
   ]
  },
  {
   "cell_type": "markdown",
   "metadata": {},
   "source": [
    "Para gerar figuras no *Jupyter Notebook* precisamos importar as bibliotecas e módulos para a sessão:"
   ]
  },
  {
   "cell_type": "code",
   "execution_count": null,
   "metadata": {
    "collapsed": true
   },
   "outputs": [],
   "source": [
    "import matplotlib.pyplot as plt\n",
    "import seaborn as sns\n",
    "\n",
    "#esta linha de código diz ao Jupyter para plotar no próprio ambiente\n",
    "%matplotlib inline"
   ]
  },
  {
   "cell_type": "markdown",
   "metadata": {},
   "source": [
    "Primeiramente construa seu mapa de ocorrência na memória do computador"
   ]
  },
  {
   "cell_type": "code",
   "execution_count": null,
   "metadata": {
    "collapsed": true
   },
   "outputs": [],
   "source": [
    "grid_dim = # defina a dimensão do seu grid em uma tupla\n",
    "g = # crie e preencha seu grid\n",
    "sp = # defina a espécie de interesse\n",
    "\n",
    "m = # crie o mapa de ocorrência para a espécie"
   ]
  },
  {
   "cell_type": "markdown",
   "metadata": {},
   "source": [
    "Veja agora como é fácil visualizar o mapa. Vamos utilizar a função `heatmap` da *Seaborn*, que aceita uma matriz e a colore conforme os valores de seus elementos. Você pode modificar os parâmetros da função e ver como eles afetam o resultado."
   ]
  },
  {
   "cell_type": "code",
   "execution_count": null,
   "metadata": {
    "collapsed": true
   },
   "outputs": [],
   "source": [
    "sns.heatmap(m,cbar=False,linewidths=1,square=True)"
   ]
  },
  {
   "cell_type": "markdown",
   "metadata": {},
   "source": [
    "---"
   ]
  },
  {
   "cell_type": "markdown",
   "metadata": {},
   "source": [
    "<span id=\"sec6\"></span>\n",
    "## 6. Construindo a aplicação final"
   ]
  },
  {
   "cell_type": "markdown",
   "metadata": {},
   "source": [
    "Para facilitar o uso da sua aplicação por colegas (ou por você própri@), seria ideal que o usuário precisasse apenas informar o nome da espécie, e o programa tomasse conta de todo o resto, mostrando ao final a figura do mapa de distribuição da espécie escolhida. Construa esta funcionalidade abaixo. Para perguntar o nome da espécie ao usuário utilize a função `input`."
   ]
  },
  {
   "cell_type": "code",
   "execution_count": null,
   "metadata": {
    "collapsed": true
   },
   "outputs": [],
   "source": [
    "# seu código aqui"
   ]
  },
  {
   "cell_type": "markdown",
   "metadata": {},
   "source": [
    "---"
   ]
  }
 ],
 "metadata": {
  "kernelspec": {
   "display_name": "Python 3",
   "language": "python",
   "name": "python3"
  },
  "language_info": {
   "codemirror_mode": {
    "name": "ipython",
    "version": 3
   },
   "file_extension": ".py",
   "mimetype": "text/x-python",
   "name": "python",
   "nbconvert_exporter": "python",
   "pygments_lexer": "ipython3",
   "version": "3.6.4"
  }
 },
 "nbformat": 4,
 "nbformat_minor": 2
}
