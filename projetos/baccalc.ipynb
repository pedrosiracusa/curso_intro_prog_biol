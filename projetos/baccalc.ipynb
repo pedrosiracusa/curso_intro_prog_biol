{
 "cells": [
  {
   "cell_type": "markdown",
   "metadata": {},
   "source": [
    "## <center>Introdução à Lógica de Programação</center>\n",
    "###  <center>Um curso prático para estudantes das Ciências da Vida</center>\n",
    "---\n",
    "## <center>Miniprojeto 1. A Calculadora Bacteriana</center>\n",
    "##### <center>Instrutor: <a href=\"https://pedrosiracusa.github.io\" target=\"_blank\">Pedro C. de Siracusa</a></center>"
   ]
  },
  {
   "cell_type": "markdown",
   "metadata": {},
   "source": [
    "#### Enunciado\n",
    "Você trabalha no laboratório de Microbiologia e está cultivando uma colônia de bactérias para seu experimento em um meio rico em nutrientes. Você sabe que o tempo médio que estas bactérias levam para se reproduzir por fissão binária - ou *tempo de geração* - é de 20 minutos. Como codificar um **modelo** para estimar o tamanho desta população no meio como resultado do tempo decorrido desde sua colonização? Por simplicidade, vamos considerar aqui que o crescimento é **exponencial** durante todo o processo."
   ]
  },
  {
   "cell_type": "markdown",
   "metadata": {},
   "source": [
    "<img src=\"img/bacteria.jpg\" >"
   ]
  },
  {
   "cell_type": "markdown",
   "metadata": {},
   "source": [
    "#### Desenvolvimento\n",
    "\n",
    "Esta calculadora bacteriana funcionará com base em um modelo matemático bastante simples criado para o estudo de crescimento em populações biológicas: o **modelo de crescimento exponencial**\n",
    "\n",
    "$$ N(t)=N_i\\cdot 2^{ \\frac{t}{g}}$$\n",
    "\n",
    "em que:\n",
    "* $N(t)$ é o tamanho populacional no tempo $t$;\n",
    "* $N_i$ é o tamanho da população colonizadora;\n",
    "* $t$ é o tempo decorrido desde a colonização;\n",
    "* $g$ é o tempo de geração da bactéria."
   ]
  },
  {
   "cell_type": "markdown",
   "metadata": {},
   "source": [
    "Precisamos representar este modelo em código.\n",
    "Crie, na célula abaixo, as variáveis $N_i$, $t$ e $g$, e atribua seus respectivos valores."
   ]
  },
  {
   "cell_type": "code",
   "execution_count": 1,
   "metadata": {},
   "outputs": [],
   "source": [
    "# Variáveis\n",
    "Ni = 1\n",
    "t = 60\n",
    "g = 20"
   ]
  },
  {
   "cell_type": "markdown",
   "metadata": {},
   "source": [
    "Agora escreva a expressão para o cálculo da população bacteriana na célula abaixo."
   ]
  },
  {
   "cell_type": "code",
   "execution_count": 2,
   "metadata": {},
   "outputs": [
    {
     "data": {
      "text/plain": [
       "8.0"
      ]
     },
     "execution_count": 2,
     "metadata": {},
     "output_type": "execute_result"
    }
   ],
   "source": [
    "# Expressão\n",
    "N = Ni * 2**(t/g)\n",
    "N"
   ]
  },
  {
   "cell_type": "markdown",
   "metadata": {},
   "source": [
    "Você deve ter percebido que o uso de variáveis torna seu modelo mais compreensivel e de certa forma reutilizável, bastando modificar os valores associados às variáveis para computar novos resultados. Experimente alterar os valores das variáveis $t$, $N_i$ e $g$, e observe as respostas do seu modelo. Elas fazem sentido?"
   ]
  },
  {
   "cell_type": "markdown",
   "metadata": {},
   "source": [
    "A primeira versão da nossa calculadora bacteriana ficou até interessante, mas no fundo ela não ficou tão fácil de ser reutilizada. Isso porque sempre que queremos calcular o tamanho da população com parâmetros diferentes temos que primeiro redefinir as variáveis e depois fazer o cálculo usando a expressão do crescimento exponencial, tudo manualmente. \n",
    "Seria ótimo podermos **abstrair** estes passos intermediários, de forma que o usuário precisasse apenas informar os valores desejados para os parâmetros, sem precisar se preocupar com a expressão do crescimento em si.\n",
    "Vamos então **encapsular** nossa calculadora em uma **função**."
   ]
  },
  {
   "cell_type": "markdown",
   "metadata": {},
   "source": [
    "Escreva a função `tamanhoPopulacional`, que recebe como *inputs* o \"tempo decorrido\", o \"tamanho da população colonizadora\", \"tempo de geração da bactéria\"."
   ]
  },
  {
   "cell_type": "code",
   "execution_count": 3,
   "metadata": {},
   "outputs": [],
   "source": [
    "def tamanhoPopulacional(Ni,t,g=20):\n",
    "    return Ni * 2**(t/g)"
   ]
  },
  {
   "cell_type": "markdown",
   "metadata": {},
   "source": [
    "Agora teste sua função. Você consegue obter os mesmos resultados da etapa anterior?"
   ]
  },
  {
   "cell_type": "code",
   "execution_count": 4,
   "metadata": {},
   "outputs": [
    {
     "data": {
      "text/plain": [
       "2.0"
      ]
     },
     "execution_count": 4,
     "metadata": {},
     "output_type": "execute_result"
    }
   ],
   "source": [
    "# Para Ni=1, t=20, (g=20 por default)\n",
    "tamanhoPopulacional(1,20)"
   ]
  },
  {
   "cell_type": "code",
   "execution_count": 5,
   "metadata": {},
   "outputs": [
    {
     "data": {
      "text/plain": [
       "4.0"
      ]
     },
     "execution_count": 5,
     "metadata": {},
     "output_type": "execute_result"
    }
   ],
   "source": [
    "# Para Ni=1, t=40, (g=20 por default)\n",
    "tamanhoPopulacional(1,40)"
   ]
  },
  {
   "cell_type": "code",
   "execution_count": 6,
   "metadata": {},
   "outputs": [
    {
     "data": {
      "text/plain": [
       "8.0"
      ]
     },
     "execution_count": 6,
     "metadata": {},
     "output_type": "execute_result"
    }
   ],
   "source": [
    "# Para Ni=1, t=60, (g=20 por default)\n",
    "tamanhoPopulacional(1,60)"
   ]
  },
  {
   "cell_type": "code",
   "execution_count": 7,
   "metadata": {},
   "outputs": [
    {
     "data": {
      "text/plain": [
       "16.0"
      ]
     },
     "execution_count": 7,
     "metadata": {},
     "output_type": "execute_result"
    }
   ],
   "source": [
    "# Para Ni=1, t=80, (g=20 por default)\n",
    "tamanhoPopulacional(1,80)"
   ]
  },
  {
   "cell_type": "markdown",
   "metadata": {},
   "source": [
    "Com uma função fica bem mais fácil usar nossa calculadora! Mas ainda temos um problema: bactérias diferentes têm taxas diferentes de reprodução (e portanto, tempos de geração diferentes). A tabela abaixo relaciona algumas espécies com seus tempos de geração característicos."
   ]
  },
  {
   "cell_type": "markdown",
   "metadata": {},
   "source": [
    "|Código| Espécie | Tempo de geração (min) |\n",
    "|--|--|--|\n",
    "|ecoli| *Escherichia coli* | 20 |\n",
    "|bsubt| *Bacillus subtilis* | 28 |\n",
    "|saure| *Staphylococcus aureus* | 30 | \n",
    "|paeru| *Pseudomonas aeruginosa* | 35 |\n",
    "|mtube| *Mycobacterium tuberculosis* | 800 |\n",
    "\n",
    "**Fonte:** Perry, J.J.; Staley, J.T. Microbiology: Dynamics & Diversity. Washington: College Publishing, 1997."
   ]
  },
  {
   "cell_type": "markdown",
   "metadata": {},
   "source": [
    "Sendo assim, se pudéssemos considerar a espécie da bactéria na nossa calculadora obteríamos resultados bem mais precisos!\n",
    "Reescreva a função `tamanhoPopulacional`, agora adicionando como input o código da bactéria."
   ]
  },
  {
   "cell_type": "code",
   "execution_count": 8,
   "metadata": {},
   "outputs": [],
   "source": [
    "def tamanhoPopulacional(Ni,t,bac):\n",
    "    if bac=='ecoli':\n",
    "        g=20\n",
    "    elif bac=='bsubt':\n",
    "        g=28\n",
    "    elif bac=='saure':\n",
    "        g=30\n",
    "    elif bac=='paeru':\n",
    "        g=35\n",
    "    elif bac=='mtube':\n",
    "        g=800\n",
    "    else:\n",
    "        print(\"Bactéria não existe!\")\n",
    "        return\n",
    "    \n",
    "    return Ni * 2**(t/g)"
   ]
  },
  {
   "cell_type": "markdown",
   "metadata": {},
   "source": [
    "Agora teste sua função para cada tipo de bactéria, e veja se os resultados são razoáveis."
   ]
  },
  {
   "cell_type": "code",
   "execution_count": 9,
   "metadata": {},
   "outputs": [
    {
     "name": "stdout",
     "output_type": "stream",
     "text": [
      "Escherichia coli\n",
      "t =   0; N = 1.0\n",
      "t =  20; N = 2.0\n",
      "t =  40; N = 4.0\n",
      "t =  60; N = 8.0\n",
      "t =  80; N = 16.0\n",
      "t = 100; N = 32.0\n",
      "t = 120; N = 64.0\n"
     ]
    }
   ],
   "source": [
    "# Para E. coli\n",
    "print(\"Escherichia coli\")\n",
    "print(\"t =   0; N =\", tamanhoPopulacional(1,t=0,bac='ecoli'))\n",
    "print(\"t =  20; N =\", tamanhoPopulacional(1,t=20,bac='ecoli'))\n",
    "print(\"t =  40; N =\", tamanhoPopulacional(1,t=40,bac='ecoli'))\n",
    "print(\"t =  60; N =\", tamanhoPopulacional(1,t=60,bac='ecoli'))\n",
    "print(\"t =  80; N =\", tamanhoPopulacional(1,t=80,bac='ecoli'))\n",
    "print(\"t = 100; N =\", tamanhoPopulacional(1,t=100,bac='ecoli'))\n",
    "print(\"t = 120; N =\", tamanhoPopulacional(1,t=120,bac='ecoli'))"
   ]
  },
  {
   "cell_type": "code",
   "execution_count": 10,
   "metadata": {},
   "outputs": [
    {
     "name": "stdout",
     "output_type": "stream",
     "text": [
      "Bacillus subtilis\n",
      "t =   0; N = 1.0\n",
      "t =  20; N = 1.640670712015276\n",
      "t =  40; N = 2.6918003852647123\n",
      "t =  60; N = 4.416358054695249\n",
      "t =  80; N = 7.245789314111254\n",
      "t = 100; N = 11.88795431309559\n",
      "t = 120; N = 19.504218467271606\n"
     ]
    }
   ],
   "source": [
    "# Para B. subtilis\n",
    "print(\"Bacillus subtilis\")\n",
    "print(\"t =   0; N =\", tamanhoPopulacional(1,t=0,bac='bsubt'))\n",
    "print(\"t =  20; N =\", tamanhoPopulacional(1,t=20,bac='bsubt'))\n",
    "print(\"t =  40; N =\", tamanhoPopulacional(1,t=40,bac='bsubt'))\n",
    "print(\"t =  60; N =\", tamanhoPopulacional(1,t=60,bac='bsubt'))\n",
    "print(\"t =  80; N =\", tamanhoPopulacional(1,t=80,bac='bsubt'))\n",
    "print(\"t = 100; N =\", tamanhoPopulacional(1,t=100,bac='bsubt'))\n",
    "print(\"t = 120; N =\", tamanhoPopulacional(1,t=120,bac='bsubt'))"
   ]
  },
  {
   "cell_type": "code",
   "execution_count": 11,
   "metadata": {},
   "outputs": [
    {
     "name": "stdout",
     "output_type": "stream",
     "text": [
      "Staphylococcus aureus\n",
      "t =   0; N = 1.0\n",
      "t =  20; N = 1.5874010519681994\n",
      "t =  40; N = 2.5198420997897464\n",
      "t =  60; N = 4.0\n",
      "t =  80; N = 6.3496042078727974\n",
      "t = 100; N = 10.079368399158986\n",
      "t = 120; N = 16.0\n"
     ]
    }
   ],
   "source": [
    "# Para S. aureus\n",
    "print(\"Staphylococcus aureus\")\n",
    "print(\"t =   0; N =\", tamanhoPopulacional(1,t=0,bac='saure'))\n",
    "print(\"t =  20; N =\", tamanhoPopulacional(1,t=20,bac='saure'))\n",
    "print(\"t =  40; N =\", tamanhoPopulacional(1,t=40,bac='saure'))\n",
    "print(\"t =  60; N =\", tamanhoPopulacional(1,t=60,bac='saure'))\n",
    "print(\"t =  80; N =\", tamanhoPopulacional(1,t=80,bac='saure'))\n",
    "print(\"t = 100; N =\", tamanhoPopulacional(1,t=100,bac='saure'))\n",
    "print(\"t = 120; N =\", tamanhoPopulacional(1,t=120,bac='saure'))"
   ]
  },
  {
   "cell_type": "markdown",
   "metadata": {},
   "source": [
    "Seria ótimo conseguirmos plotar o crescimento bacteriano ao longo do tempo!\n",
    "Construa a função `geraPlot`."
   ]
  },
  {
   "cell_type": "code",
   "execution_count": 12,
   "metadata": {},
   "outputs": [],
   "source": [
    "import matplotlib.pyplot as plt\n",
    "\n",
    "%matplotlib inline"
   ]
  },
  {
   "cell_type": "code",
   "execution_count": 13,
   "metadata": {},
   "outputs": [],
   "source": [
    "def geraPlot( tempoFinal, bac ):\n",
    "    xs = list( range(0,tempoFinal) )\n",
    "    ys = []\n",
    "    for t in xs:\n",
    "        ys.append( tamanhoPopulacional(Ni=1,t=t,bac=bac) )\n",
    "    \n",
    "    plt.title(\"Bactéria \"+bac)\n",
    "    plt.plot(xs,ys)\n",
    "    plt.xlabel(\"Tempo decorrido\")\n",
    "    plt.ylabel(\"Tamanho populacional\")"
   ]
  },
  {
   "cell_type": "code",
   "execution_count": 14,
   "metadata": {},
   "outputs": [
    {
     "data": {
      "image/png": "[encoded data removed]",
      "text/plain": [
       "<Figure size 432x288 with 1 Axes>"
      ]
     },
     "metadata": {},
     "output_type": "display_data"
    }
   ],
   "source": [
    "geraPlot( tempoFinal=120, bac='ecoli' )"
   ]
  },
  {
   "cell_type": "code",
   "execution_count": 15,
   "metadata": {},
   "outputs": [
    {
     "data": {
      "image/png": "[encoded data removed]",
      "text/plain": [
       "<Figure size 432x288 with 1 Axes>"
      ]
     },
     "metadata": {},
     "output_type": "display_data"
    }
   ],
   "source": [
    "geraPlot( tempoFinal=120, bac='bsubt' )"
   ]
  },
  {
   "cell_type": "code",
   "execution_count": 16,
   "metadata": {},
   "outputs": [
    {
     "data": {
      "image/png": "[encoded data removed]",
      "text/plain": [
       "<Figure size 432x288 with 1 Axes>"
      ]
     },
     "metadata": {},
     "output_type": "display_data"
    }
   ],
   "source": [
    "geraPlot( tempoFinal=120, bac='saure' )"
   ]
  },
  {
   "cell_type": "code",
   "execution_count": 17,
   "metadata": {},
   "outputs": [
    {
     "data": {
      "image/png": "[encoded data removed]",
      "text/plain": [
       "<Figure size 432x288 with 1 Axes>"
      ]
     },
     "metadata": {},
     "output_type": "display_data"
    }
   ],
   "source": [
    "geraPlot( tempoFinal=120, bac='paeru' )"
   ]
  },
  {
   "cell_type": "code",
   "execution_count": 18,
   "metadata": {},
   "outputs": [
    {
     "data": {
      "image/png": "[encoded data removed]",
      "text/plain": [
       "<Figure size 432x288 with 1 Axes>"
      ]
     },
     "metadata": {},
     "output_type": "display_data"
    }
   ],
   "source": [
    "geraPlot( tempoFinal=120, bac='mtube' )"
   ]
  }
 ],
 "metadata": {
  "kernelspec": {
   "display_name": "Python 3",
   "language": "python",
   "name": "python3"
  },
  "language_info": {
   "codemirror_mode": {
    "name": "ipython",
    "version": 3
   },
   "file_extension": ".py",
   "mimetype": "text/x-python",
   "name": "python",
   "nbconvert_exporter": "python",
   "pygments_lexer": "ipython3",
   "version": "3.6.5"
  }
 },
 "nbformat": 4,
 "nbformat_minor": 2
}
